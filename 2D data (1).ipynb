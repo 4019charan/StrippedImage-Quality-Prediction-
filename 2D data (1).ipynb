{
 "cells": [
  {
   "cell_type": "code",
   "execution_count": 1,
   "id": "16d44cef",
   "metadata": {
    "tags": []
   },
   "outputs": [
    {
     "name": "stderr",
     "output_type": "stream",
     "text": [
      "2023-04-12 08:45:55.255461: I tensorflow/core/platform/cpu_feature_guard.cc:193] This TensorFlow binary is optimized with oneAPI Deep Neural Network Library (oneDNN) to use the following CPU instructions in performance-critical operations:  AVX2 AVX512F FMA\n",
      "To enable them in other operations, rebuild TensorFlow with the appropriate compiler flags.\n",
      "2023-04-12 08:45:55.399386: E tensorflow/stream_executor/cuda/cuda_blas.cc:2981] Unable to register cuBLAS factory: Attempting to register factory for plugin cuBLAS when one has already been registered\n",
      "2023-04-12 08:45:56.402132: W tensorflow/stream_executor/platform/default/dso_loader.cc:64] Could not load dynamic library 'libnvinfer.so.7'; dlerror: libnvinfer.so.7: cannot open shared object file: No such file or directory; LD_LIBRARY_PATH: /software/spackages/linux-rocky8-x86_64/gcc-9.5.0/cudnn-8.1.0.77-11.2-o55zmcsaca6xrl5uyyaalmxt2nabqytf/lib64:/software/spackages/linux-rocky8-x86_64/gcc-9.5.0/cuda-11.2.2-ud5pedf473of4in4vhulabsyve3snph4/lib64:/software/spackages/linux-rocky8-x86_64/gcc-9.5.0/libxml2-2.9.13-6my53cs3ezjrffp6uflwnpoo4sq7kon2/lib:/software/spackages/linux-rocky8-x86_64/gcc-9.5.0/anaconda3-2022.05-zyrazrj6uvrtukupqzhaslr63w7hj6in/lib\n",
      "2023-04-12 08:45:56.402236: W tensorflow/stream_executor/platform/default/dso_loader.cc:64] Could not load dynamic library 'libnvinfer_plugin.so.7'; dlerror: libnvinfer_plugin.so.7: cannot open shared object file: No such file or directory; LD_LIBRARY_PATH: /software/spackages/linux-rocky8-x86_64/gcc-9.5.0/cudnn-8.1.0.77-11.2-o55zmcsaca6xrl5uyyaalmxt2nabqytf/lib64:/software/spackages/linux-rocky8-x86_64/gcc-9.5.0/cuda-11.2.2-ud5pedf473of4in4vhulabsyve3snph4/lib64:/software/spackages/linux-rocky8-x86_64/gcc-9.5.0/libxml2-2.9.13-6my53cs3ezjrffp6uflwnpoo4sq7kon2/lib:/software/spackages/linux-rocky8-x86_64/gcc-9.5.0/anaconda3-2022.05-zyrazrj6uvrtukupqzhaslr63w7hj6in/lib\n",
      "2023-04-12 08:45:56.402241: W tensorflow/compiler/tf2tensorrt/utils/py_utils.cc:38] TF-TRT Warning: Cannot dlopen some TensorRT libraries. If you would like to use Nvidia GPU with TensorRT, please make sure the missing libraries mentioned above are installed properly.\n"
     ]
    }
   ],
   "source": [
    "import os \n",
    "import pickle\n",
    "import numpy as np\n",
    "import pandas as pd\n",
    "import nibabel as nib\n",
    "import tensorflow as tf\n",
    "from scipy import ndimage\n",
    "from tensorflow import keras\n",
    "from tensorflow.keras import layers\n",
    "from sklearn.metrics import confusion_matrix\n",
    "from sklearn.metrics import classification_report"
   ]
  },
  {
   "cell_type": "code",
   "execution_count": null,
   "id": "d2f11239-c17e-41ae-a85c-027dea1231ee",
   "metadata": {},
   "outputs": [],
   "source": []
  },
  {
   "cell_type": "code",
   "execution_count": 2,
   "id": "4b57d042-1e62-4420-a2e8-2f502ad0c843",
   "metadata": {
    "tags": []
   },
   "outputs": [
    {
     "data": {
      "text/plain": [
       "'/home/cbasire/Data Mining'"
      ]
     },
     "execution_count": 2,
     "metadata": {},
     "output_type": "execute_result"
    }
   ],
   "source": [
    "os.getcwd()"
   ]
  },
  {
   "cell_type": "code",
   "execution_count": 3,
   "id": "d6ab0f78",
   "metadata": {
    "tags": []
   },
   "outputs": [],
   "source": [
    "from glob import glob\n",
    "import matplotlib.pyplot as plt\n",
    "import random\n",
    "import time\n",
    "from tqdm import tqdm\n",
    "\n",
    "start_path = '/home/cbasire/Data Mining/BSE_BET_DATA/'\n",
    "image_file_paths = glob(start_path+'files/*')\n",
    "\n"
   ]
  },
  {
   "cell_type": "code",
   "execution_count": 62,
   "id": "d47fa6f5",
   "metadata": {
    "tags": []
   },
   "outputs": [],
   "source": [
    "# Read nifti file\n",
    "def read_nifti_file(filepath):\n",
    "    \"\"\"Read and load volume\"\"\"\n",
    "    # Read file\n",
    "    scan = nib.load(filepath).get_fdata()\n",
    "    return scan\n",
    "\n",
    "\n",
    "# Normalize using min-max normalization\n",
    "def normalize(volume):\n",
    "    \"\"\"Normalize the volume\"\"\"\n",
    "    min = -1000\n",
    "    max = 400\n",
    "    volume[volume < min] = min\n",
    "    volume[volume > max] = max\n",
    "    volume = (volume - min) / (max - min)\n",
    "    return volume.astype(\"float32\")\n",
    "\n",
    "\n",
    "# Resize image to standard size for all of them\n",
    "def resize_volume(img):\n",
    "    depth_factor = 1 / (img.shape[-1] / 64)\n",
    "    width_factor = 1 / (img.shape[0] / 128)\n",
    "    height_factor = 1 / (img.shape[1] / 128)\n",
    "    # Rotate\n",
    "    # img = ndimage.rotate(img, 90, reshape=False)\n",
    "    # Resize across z-axis\n",
    "    img = ndimage.zoom(img, (width_factor, height_factor, depth_factor), order=1)\n",
    "    img = img[:,:,32]\n",
    "    return img\n",
    "\n",
    "\n",
    "# All 3 functions above put in one\n",
    "def process_scan(path):\n",
    "    \"\"\"Read and resize volume\"\"\"\n",
    "    # Read scan\n",
    "    volume = read_nifti_file(path)\n",
    "\n",
    "    # Normalize\n",
    "    volume = normalize(volume)\n",
    "    # Resize width, height and depth\n",
    "    volume = resize_volume(volume)\n",
    "    #convert to 2D\n",
    "   # volume = convert(volume)\n",
    "    return volume"
   ]
  },
  {
   "cell_type": "code",
   "execution_count": 5,
   "id": "50f43188",
   "metadata": {
    "tags": []
   },
   "outputs": [
    {
     "data": {
      "text/html": [
       "<div>\n",
       "<style scoped>\n",
       "    .dataframe tbody tr th:only-of-type {\n",
       "        vertical-align: middle;\n",
       "    }\n",
       "\n",
       "    .dataframe tbody tr th {\n",
       "        vertical-align: top;\n",
       "    }\n",
       "\n",
       "    .dataframe thead th {\n",
       "        text-align: right;\n",
       "    }\n",
       "</style>\n",
       "<table border=\"1\" class=\"dataframe\">\n",
       "  <thead>\n",
       "    <tr style=\"text-align: right;\">\n",
       "      <th></th>\n",
       "      <th>Filename</th>\n",
       "      <th>Recognizable-Facial-Feature</th>\n",
       "      <th>Brain-Feature-Loss</th>\n",
       "    </tr>\n",
       "  </thead>\n",
       "  <tbody>\n",
       "    <tr>\n",
       "      <th>0</th>\n",
       "      <td>IXI369-Guys-0924-T1_bet_03.nii</td>\n",
       "      <td>Yes</td>\n",
       "      <td>No</td>\n",
       "    </tr>\n",
       "    <tr>\n",
       "      <th>1</th>\n",
       "      <td>IXI448-HH-2393-T1_bet_07.nii</td>\n",
       "      <td>Yes</td>\n",
       "      <td>No</td>\n",
       "    </tr>\n",
       "    <tr>\n",
       "      <th>2</th>\n",
       "      <td>IXI252-HH-1693-T1_bet_08.nii</td>\n",
       "      <td>Yes</td>\n",
       "      <td>No</td>\n",
       "    </tr>\n",
       "    <tr>\n",
       "      <th>3</th>\n",
       "      <td>IXI188-Guys-0798-T1_bet_17.nii</td>\n",
       "      <td>Yes</td>\n",
       "      <td>No</td>\n",
       "    </tr>\n",
       "    <tr>\n",
       "      <th>4</th>\n",
       "      <td>IXI182-Guys-0792-T1_bet_17.nii</td>\n",
       "      <td>Yes</td>\n",
       "      <td>No</td>\n",
       "    </tr>\n",
       "  </tbody>\n",
       "</table>\n",
       "</div>"
      ],
      "text/plain": [
       "                         Filename Recognizable-Facial-Feature   \n",
       "0  IXI369-Guys-0924-T1_bet_03.nii                         Yes  \\\n",
       "1    IXI448-HH-2393-T1_bet_07.nii                         Yes   \n",
       "2    IXI252-HH-1693-T1_bet_08.nii                         Yes   \n",
       "3  IXI188-Guys-0798-T1_bet_17.nii                         Yes   \n",
       "4  IXI182-Guys-0792-T1_bet_17.nii                         Yes   \n",
       "\n",
       "  Brain-Feature-Loss  \n",
       "0                 No  \n",
       "1                 No  \n",
       "2                 No  \n",
       "3                 No  \n",
       "4                 No  "
      ]
     },
     "execution_count": 5,
     "metadata": {},
     "output_type": "execute_result"
    }
   ],
   "source": [
    "data = pd.read_csv(start_path+'labels.csv')\n",
    "\n",
    "data.head()"
   ]
  },
  {
   "cell_type": "code",
   "execution_count": 6,
   "id": "e5cc18e4",
   "metadata": {
    "tags": []
   },
   "outputs": [
    {
     "name": "stdout",
     "output_type": "stream",
     "text": [
      "Recognizable-Facial-Feature\n",
      "No     1347\n",
      "Yes     713\n",
      "Name: count, dtype: int64\n",
      "Brain-Feature-Loss\n",
      "Yes    1332\n",
      "No      728\n",
      "Name: count, dtype: int64\n"
     ]
    }
   ],
   "source": [
    "# Split data into two sets, one for each output variable\n",
    "df_recognize = data.iloc[: , :-1]\n",
    "df_brainLoss = data.drop('Recognizable-Facial-Feature', axis=1)\n",
    "\n",
    "print(df_recognize['Recognizable-Facial-Feature'].value_counts())\n",
    "print(df_brainLoss['Brain-Feature-Loss'].value_counts())"
   ]
  },
  {
   "cell_type": "code",
   "execution_count": 7,
   "id": "c6f83d14",
   "metadata": {
    "tags": []
   },
   "outputs": [
    {
     "data": {
      "text/html": [
       "<div>\n",
       "<style scoped>\n",
       "    .dataframe tbody tr th:only-of-type {\n",
       "        vertical-align: middle;\n",
       "    }\n",
       "\n",
       "    .dataframe tbody tr th {\n",
       "        vertical-align: top;\n",
       "    }\n",
       "\n",
       "    .dataframe thead th {\n",
       "        text-align: right;\n",
       "    }\n",
       "</style>\n",
       "<table border=\"1\" class=\"dataframe\">\n",
       "  <thead>\n",
       "    <tr style=\"text-align: right;\">\n",
       "      <th></th>\n",
       "      <th>Filename</th>\n",
       "      <th>Recognizable-Facial-Feature</th>\n",
       "    </tr>\n",
       "  </thead>\n",
       "  <tbody>\n",
       "    <tr>\n",
       "      <th>0</th>\n",
       "      <td>IXI369-Guys-0924-T1_bet_03.nii</td>\n",
       "      <td>Yes</td>\n",
       "    </tr>\n",
       "    <tr>\n",
       "      <th>1</th>\n",
       "      <td>IXI448-HH-2393-T1_bet_07.nii</td>\n",
       "      <td>Yes</td>\n",
       "    </tr>\n",
       "    <tr>\n",
       "      <th>2</th>\n",
       "      <td>IXI252-HH-1693-T1_bet_08.nii</td>\n",
       "      <td>Yes</td>\n",
       "    </tr>\n",
       "    <tr>\n",
       "      <th>3</th>\n",
       "      <td>IXI188-Guys-0798-T1_bet_17.nii</td>\n",
       "      <td>Yes</td>\n",
       "    </tr>\n",
       "    <tr>\n",
       "      <th>4</th>\n",
       "      <td>IXI182-Guys-0792-T1_bet_17.nii</td>\n",
       "      <td>Yes</td>\n",
       "    </tr>\n",
       "  </tbody>\n",
       "</table>\n",
       "</div>"
      ],
      "text/plain": [
       "                         Filename Recognizable-Facial-Feature\n",
       "0  IXI369-Guys-0924-T1_bet_03.nii                         Yes\n",
       "1    IXI448-HH-2393-T1_bet_07.nii                         Yes\n",
       "2    IXI252-HH-1693-T1_bet_08.nii                         Yes\n",
       "3  IXI188-Guys-0798-T1_bet_17.nii                         Yes\n",
       "4  IXI182-Guys-0792-T1_bet_17.nii                         Yes"
      ]
     },
     "execution_count": 7,
     "metadata": {},
     "output_type": "execute_result"
    }
   ],
   "source": [
    "df_recognize.head()"
   ]
  },
  {
   "cell_type": "code",
   "execution_count": 8,
   "id": "632aed14",
   "metadata": {
    "tags": []
   },
   "outputs": [
    {
     "data": {
      "text/html": [
       "<div>\n",
       "<style scoped>\n",
       "    .dataframe tbody tr th:only-of-type {\n",
       "        vertical-align: middle;\n",
       "    }\n",
       "\n",
       "    .dataframe tbody tr th {\n",
       "        vertical-align: top;\n",
       "    }\n",
       "\n",
       "    .dataframe thead th {\n",
       "        text-align: right;\n",
       "    }\n",
       "</style>\n",
       "<table border=\"1\" class=\"dataframe\">\n",
       "  <thead>\n",
       "    <tr style=\"text-align: right;\">\n",
       "      <th></th>\n",
       "      <th>Filename</th>\n",
       "      <th>Brain-Feature-Loss</th>\n",
       "    </tr>\n",
       "  </thead>\n",
       "  <tbody>\n",
       "    <tr>\n",
       "      <th>0</th>\n",
       "      <td>IXI369-Guys-0924-T1_bet_03.nii</td>\n",
       "      <td>No</td>\n",
       "    </tr>\n",
       "    <tr>\n",
       "      <th>1</th>\n",
       "      <td>IXI448-HH-2393-T1_bet_07.nii</td>\n",
       "      <td>No</td>\n",
       "    </tr>\n",
       "    <tr>\n",
       "      <th>2</th>\n",
       "      <td>IXI252-HH-1693-T1_bet_08.nii</td>\n",
       "      <td>No</td>\n",
       "    </tr>\n",
       "    <tr>\n",
       "      <th>3</th>\n",
       "      <td>IXI188-Guys-0798-T1_bet_17.nii</td>\n",
       "      <td>No</td>\n",
       "    </tr>\n",
       "    <tr>\n",
       "      <th>4</th>\n",
       "      <td>IXI182-Guys-0792-T1_bet_17.nii</td>\n",
       "      <td>No</td>\n",
       "    </tr>\n",
       "  </tbody>\n",
       "</table>\n",
       "</div>"
      ],
      "text/plain": [
       "                         Filename Brain-Feature-Loss\n",
       "0  IXI369-Guys-0924-T1_bet_03.nii                 No\n",
       "1    IXI448-HH-2393-T1_bet_07.nii                 No\n",
       "2    IXI252-HH-1693-T1_bet_08.nii                 No\n",
       "3  IXI188-Guys-0798-T1_bet_17.nii                 No\n",
       "4  IXI182-Guys-0792-T1_bet_17.nii                 No"
      ]
     },
     "execution_count": 8,
     "metadata": {},
     "output_type": "execute_result"
    }
   ],
   "source": [
    "df_brainLoss.head()"
   ]
  },
  {
   "cell_type": "code",
   "execution_count": 9,
   "id": "866d15bb",
   "metadata": {
    "tags": []
   },
   "outputs": [
    {
     "name": "stderr",
     "output_type": "stream",
     "text": [
      "/local_scratch/pbs.467553.pbs02/ipykernel_463404/3476586761.py:1: SettingWithCopyWarning: \n",
      "A value is trying to be set on a copy of a slice from a DataFrame.\n",
      "Try using .loc[row_indexer,col_indexer] = value instead\n",
      "\n",
      "See the caveats in the documentation: https://pandas.pydata.org/pandas-docs/stable/user_guide/indexing.html#returning-a-view-versus-a-copy\n",
      "  df_recognize['Recognizable-Facial-Feature'] = df_recognize['Recognizable-Facial-Feature'].replace({'Yes': 1, 'No': 0})\n"
     ]
    }
   ],
   "source": [
    "df_recognize['Recognizable-Facial-Feature'] = df_recognize['Recognizable-Facial-Feature'].replace({'Yes': 1, 'No': 0})\n",
    "\n",
    "df_brainLoss['Brain-Feature-Loss'] = df_brainLoss['Brain-Feature-Loss'].replace({'Yes': 1, 'No': 0})\n"
   ]
  },
  {
   "cell_type": "code",
   "execution_count": 10,
   "id": "a93b31e4",
   "metadata": {
    "tags": []
   },
   "outputs": [
    {
     "data": {
      "text/html": [
       "<div>\n",
       "<style scoped>\n",
       "    .dataframe tbody tr th:only-of-type {\n",
       "        vertical-align: middle;\n",
       "    }\n",
       "\n",
       "    .dataframe tbody tr th {\n",
       "        vertical-align: top;\n",
       "    }\n",
       "\n",
       "    .dataframe thead th {\n",
       "        text-align: right;\n",
       "    }\n",
       "</style>\n",
       "<table border=\"1\" class=\"dataframe\">\n",
       "  <thead>\n",
       "    <tr style=\"text-align: right;\">\n",
       "      <th></th>\n",
       "      <th>Filename</th>\n",
       "      <th>Recognizable-Facial-Feature</th>\n",
       "    </tr>\n",
       "  </thead>\n",
       "  <tbody>\n",
       "    <tr>\n",
       "      <th>0</th>\n",
       "      <td>IXI369-Guys-0924-T1_bet_03.nii</td>\n",
       "      <td>1</td>\n",
       "    </tr>\n",
       "    <tr>\n",
       "      <th>1</th>\n",
       "      <td>IXI448-HH-2393-T1_bet_07.nii</td>\n",
       "      <td>1</td>\n",
       "    </tr>\n",
       "    <tr>\n",
       "      <th>2</th>\n",
       "      <td>IXI252-HH-1693-T1_bet_08.nii</td>\n",
       "      <td>1</td>\n",
       "    </tr>\n",
       "    <tr>\n",
       "      <th>3</th>\n",
       "      <td>IXI188-Guys-0798-T1_bet_17.nii</td>\n",
       "      <td>1</td>\n",
       "    </tr>\n",
       "    <tr>\n",
       "      <th>4</th>\n",
       "      <td>IXI182-Guys-0792-T1_bet_17.nii</td>\n",
       "      <td>1</td>\n",
       "    </tr>\n",
       "  </tbody>\n",
       "</table>\n",
       "</div>"
      ],
      "text/plain": [
       "                         Filename  Recognizable-Facial-Feature\n",
       "0  IXI369-Guys-0924-T1_bet_03.nii                            1\n",
       "1    IXI448-HH-2393-T1_bet_07.nii                            1\n",
       "2    IXI252-HH-1693-T1_bet_08.nii                            1\n",
       "3  IXI188-Guys-0798-T1_bet_17.nii                            1\n",
       "4  IXI182-Guys-0792-T1_bet_17.nii                            1"
      ]
     },
     "execution_count": 10,
     "metadata": {},
     "output_type": "execute_result"
    }
   ],
   "source": [
    "df_recognize.head()"
   ]
  },
  {
   "cell_type": "code",
   "execution_count": 11,
   "id": "a089692c",
   "metadata": {
    "tags": []
   },
   "outputs": [
    {
     "data": {
      "text/html": [
       "<div>\n",
       "<style scoped>\n",
       "    .dataframe tbody tr th:only-of-type {\n",
       "        vertical-align: middle;\n",
       "    }\n",
       "\n",
       "    .dataframe tbody tr th {\n",
       "        vertical-align: top;\n",
       "    }\n",
       "\n",
       "    .dataframe thead th {\n",
       "        text-align: right;\n",
       "    }\n",
       "</style>\n",
       "<table border=\"1\" class=\"dataframe\">\n",
       "  <thead>\n",
       "    <tr style=\"text-align: right;\">\n",
       "      <th></th>\n",
       "      <th>Filename</th>\n",
       "      <th>Brain-Feature-Loss</th>\n",
       "    </tr>\n",
       "  </thead>\n",
       "  <tbody>\n",
       "    <tr>\n",
       "      <th>0</th>\n",
       "      <td>IXI369-Guys-0924-T1_bet_03.nii</td>\n",
       "      <td>0</td>\n",
       "    </tr>\n",
       "    <tr>\n",
       "      <th>1</th>\n",
       "      <td>IXI448-HH-2393-T1_bet_07.nii</td>\n",
       "      <td>0</td>\n",
       "    </tr>\n",
       "    <tr>\n",
       "      <th>2</th>\n",
       "      <td>IXI252-HH-1693-T1_bet_08.nii</td>\n",
       "      <td>0</td>\n",
       "    </tr>\n",
       "    <tr>\n",
       "      <th>3</th>\n",
       "      <td>IXI188-Guys-0798-T1_bet_17.nii</td>\n",
       "      <td>0</td>\n",
       "    </tr>\n",
       "    <tr>\n",
       "      <th>4</th>\n",
       "      <td>IXI182-Guys-0792-T1_bet_17.nii</td>\n",
       "      <td>0</td>\n",
       "    </tr>\n",
       "  </tbody>\n",
       "</table>\n",
       "</div>"
      ],
      "text/plain": [
       "                         Filename  Brain-Feature-Loss\n",
       "0  IXI369-Guys-0924-T1_bet_03.nii                   0\n",
       "1    IXI448-HH-2393-T1_bet_07.nii                   0\n",
       "2    IXI252-HH-1693-T1_bet_08.nii                   0\n",
       "3  IXI188-Guys-0798-T1_bet_17.nii                   0\n",
       "4  IXI182-Guys-0792-T1_bet_17.nii                   0"
      ]
     },
     "execution_count": 11,
     "metadata": {},
     "output_type": "execute_result"
    }
   ],
   "source": [
    "df_brainLoss.head()"
   ]
  },
  {
   "cell_type": "code",
   "execution_count": 12,
   "id": "caff6220",
   "metadata": {
    "tags": []
   },
   "outputs": [
    {
     "data": {
      "text/plain": [
       "45"
      ]
     },
     "execution_count": 12,
     "metadata": {},
     "output_type": "execute_result"
    }
   ],
   "source": [
    "image_file_paths[0].index('IXI')"
   ]
  },
  {
   "cell_type": "markdown",
   "id": "c5a7bc95",
   "metadata": {},
   "source": [
    "### arranging list of paths as in the order of labels"
   ]
  },
  {
   "cell_type": "code",
   "execution_count": 13,
   "id": "a1882d08",
   "metadata": {
    "tags": []
   },
   "outputs": [],
   "source": [
    "df_recognize_paths = []\n",
    "for filename in df_recognize['Filename']:\n",
    "    for path in image_file_paths:\n",
    "        # Check if path is a Yes file or a No fi\n",
    "        if path[45:-3:] == filename:\n",
    "            df_recognize_paths.append(glob(path))"
   ]
  },
  {
   "cell_type": "code",
   "execution_count": 14,
   "id": "edc406af-1a2a-47de-afb2-97ca7c6d11ad",
   "metadata": {
    "tags": []
   },
   "outputs": [
    {
     "data": {
      "text/plain": [
       "[['/home/cbasire/Data Mining/BSE_BET_DATA/files/IXI369-Guys-0924-T1_bet_03.nii.gz'],\n",
       " ['/home/cbasire/Data Mining/BSE_BET_DATA/files/IXI448-HH-2393-T1_bet_07.nii.gz'],\n",
       " ['/home/cbasire/Data Mining/BSE_BET_DATA/files/IXI252-HH-1693-T1_bet_08.nii.gz'],\n",
       " ['/home/cbasire/Data Mining/BSE_BET_DATA/files/IXI188-Guys-0798-T1_bet_17.nii.gz'],\n",
       " ['/home/cbasire/Data Mining/BSE_BET_DATA/files/IXI182-Guys-0792-T1_bet_17.nii.gz']]"
      ]
     },
     "execution_count": 14,
     "metadata": {},
     "output_type": "execute_result"
    }
   ],
   "source": [
    "df_recognize_paths[:5]"
   ]
  },
  {
   "cell_type": "code",
   "execution_count": 15,
   "id": "fca53a7f-ecf9-4749-86b3-d5e7fc69beaa",
   "metadata": {
    "tags": []
   },
   "outputs": [
    {
     "data": {
      "text/plain": [
       "0    IXI369-Guys-0924-T1_bet_03.nii\n",
       "1      IXI448-HH-2393-T1_bet_07.nii\n",
       "2      IXI252-HH-1693-T1_bet_08.nii\n",
       "3    IXI188-Guys-0798-T1_bet_17.nii\n",
       "4    IXI182-Guys-0792-T1_bet_17.nii\n",
       "Name: Filename, dtype: object"
      ]
     },
     "execution_count": 15,
     "metadata": {},
     "output_type": "execute_result"
    }
   ],
   "source": [
    "df_recognize['Filename'][:5]"
   ]
  },
  {
   "cell_type": "code",
   "execution_count": 64,
   "id": "38ac89ee",
   "metadata": {
    "collapsed": true,
    "jupyter": {
     "outputs_hidden": true
    },
    "tags": []
   },
   "outputs": [
    {
     "name": "stderr",
     "output_type": "stream",
     "text": [
      "\n",
      "  0%|          | 0/100 [00:00<?, ?it/s]\u001b[A\n",
      "  1%|          | 1/100 [00:00<00:39,  2.51it/s]\u001b[A\n",
      "  2%|▏         | 2/100 [00:00<00:38,  2.56it/s]\u001b[A\n",
      "  3%|▎         | 3/100 [00:01<00:38,  2.55it/s]\u001b[A\n",
      "  4%|▍         | 4/100 [00:01<00:37,  2.58it/s]\u001b[A\n",
      "  5%|▌         | 5/100 [00:01<00:36,  2.60it/s]\u001b[A\n",
      "  6%|▌         | 6/100 [00:02<00:36,  2.60it/s]\u001b[A\n",
      "  7%|▋         | 7/100 [00:02<00:35,  2.59it/s]\u001b[A\n",
      "  8%|▊         | 8/100 [00:03<00:35,  2.59it/s]\u001b[A\n",
      "  9%|▉         | 9/100 [00:03<00:35,  2.58it/s]\u001b[A\n",
      " 10%|█         | 10/100 [00:03<00:34,  2.60it/s]\u001b[A\n",
      " 11%|█         | 11/100 [00:04<00:34,  2.61it/s]\u001b[A\n",
      " 12%|█▏        | 12/100 [00:04<00:33,  2.61it/s]\u001b[A\n",
      " 13%|█▎        | 13/100 [00:05<00:33,  2.61it/s]\u001b[A\n",
      " 14%|█▍        | 14/100 [00:05<00:32,  2.62it/s]\u001b[A\n",
      " 15%|█▌        | 15/100 [00:05<00:32,  2.60it/s]\u001b[A\n",
      " 16%|█▌        | 16/100 [00:06<00:32,  2.62it/s]\u001b[A\n",
      " 17%|█▋        | 17/100 [00:06<00:31,  2.62it/s]\u001b[A\n",
      " 18%|█▊        | 18/100 [00:06<00:31,  2.62it/s]\u001b[A\n",
      " 19%|█▉        | 19/100 [00:07<00:30,  2.62it/s]\u001b[A\n",
      " 20%|██        | 20/100 [00:07<00:30,  2.61it/s]\u001b[A\n",
      " 21%|██        | 21/100 [00:08<00:30,  2.60it/s]\u001b[A\n",
      " 22%|██▏       | 22/100 [00:08<00:30,  2.59it/s]\u001b[A\n",
      " 23%|██▎       | 23/100 [00:08<00:30,  2.53it/s]\u001b[A\n",
      " 24%|██▍       | 24/100 [00:09<00:30,  2.53it/s]\u001b[A\n",
      " 25%|██▌       | 25/100 [00:09<00:30,  2.49it/s]\u001b[A\n",
      " 26%|██▌       | 26/100 [00:10<00:29,  2.55it/s]\u001b[A\n",
      " 27%|██▋       | 27/100 [00:10<00:28,  2.58it/s]\u001b[A\n",
      " 28%|██▊       | 28/100 [00:10<00:28,  2.51it/s]\u001b[A\n",
      " 29%|██▉       | 29/100 [00:11<00:27,  2.55it/s]\u001b[A\n",
      " 30%|███       | 30/100 [00:11<00:28,  2.46it/s]\u001b[A\n",
      " 31%|███       | 31/100 [00:12<00:27,  2.51it/s]\u001b[A\n",
      " 32%|███▏      | 32/100 [00:12<00:26,  2.55it/s]\u001b[A\n",
      " 33%|███▎      | 33/100 [00:12<00:26,  2.57it/s]\u001b[A\n",
      " 34%|███▍      | 34/100 [00:13<00:26,  2.53it/s]\u001b[A\n",
      " 35%|███▌      | 35/100 [00:13<00:25,  2.56it/s]\u001b[A\n",
      " 36%|███▌      | 36/100 [00:14<00:26,  2.43it/s]\u001b[A\n",
      " 37%|███▋      | 37/100 [00:14<00:25,  2.44it/s]\u001b[A\n",
      " 38%|███▊      | 38/100 [00:14<00:24,  2.49it/s]\u001b[A\n",
      " 39%|███▉      | 39/100 [00:15<00:24,  2.51it/s]\u001b[A\n",
      " 40%|████      | 40/100 [00:15<00:23,  2.55it/s]\u001b[A\n",
      " 41%|████      | 41/100 [00:16<00:24,  2.41it/s]\u001b[A\n",
      " 42%|████▏     | 42/100 [00:16<00:23,  2.45it/s]\u001b[A\n",
      " 43%|████▎     | 43/100 [00:16<00:22,  2.50it/s]\u001b[A\n",
      " 44%|████▍     | 44/100 [00:17<00:22,  2.54it/s]\u001b[A\n",
      " 45%|████▌     | 45/100 [00:17<00:21,  2.56it/s]\u001b[A\n",
      " 46%|████▌     | 46/100 [00:18<00:21,  2.57it/s]\u001b[A\n",
      " 47%|████▋     | 47/100 [00:18<00:20,  2.59it/s]\u001b[A\n",
      " 48%|████▊     | 48/100 [00:18<00:20,  2.60it/s]\u001b[A\n",
      " 49%|████▉     | 49/100 [00:19<00:20,  2.54it/s]\u001b[A\n",
      " 50%|█████     | 50/100 [00:19<00:19,  2.55it/s]\u001b[A\n",
      " 51%|█████     | 51/100 [00:19<00:19,  2.57it/s]\u001b[A\n",
      " 52%|█████▏    | 52/100 [00:20<00:18,  2.55it/s]\u001b[A\n",
      " 53%|█████▎    | 53/100 [00:20<00:18,  2.58it/s]\u001b[A\n",
      " 54%|█████▍    | 54/100 [00:21<00:17,  2.59it/s]\u001b[A\n",
      " 55%|█████▌    | 55/100 [00:21<00:17,  2.59it/s]\u001b[A\n",
      " 56%|█████▌    | 56/100 [00:21<00:17,  2.58it/s]\u001b[A\n",
      " 57%|█████▋    | 57/100 [00:22<00:17,  2.48it/s]\u001b[A\n",
      " 58%|█████▊    | 58/100 [00:22<00:17,  2.46it/s]\u001b[A\n",
      " 59%|█████▉    | 59/100 [00:23<00:16,  2.49it/s]\u001b[A\n",
      " 60%|██████    | 60/100 [00:23<00:15,  2.55it/s]\u001b[A\n",
      " 61%|██████    | 61/100 [00:23<00:15,  2.55it/s]\u001b[A\n",
      " 62%|██████▏   | 62/100 [00:24<00:14,  2.54it/s]\u001b[A\n",
      " 63%|██████▎   | 63/100 [00:24<00:14,  2.56it/s]\u001b[A\n",
      " 64%|██████▍   | 64/100 [00:25<00:13,  2.59it/s]\u001b[A\n",
      " 65%|██████▌   | 65/100 [00:25<00:13,  2.58it/s]\u001b[A\n",
      " 66%|██████▌   | 66/100 [00:25<00:13,  2.60it/s]\u001b[A\n",
      " 67%|██████▋   | 67/100 [00:26<00:12,  2.54it/s]\u001b[A\n",
      " 68%|██████▊   | 68/100 [00:26<00:13,  2.46it/s]\u001b[A\n",
      " 69%|██████▉   | 69/100 [00:27<00:12,  2.49it/s]\u001b[A\n",
      " 70%|███████   | 70/100 [00:27<00:12,  2.43it/s]\u001b[A\n",
      " 71%|███████   | 71/100 [00:27<00:11,  2.45it/s]\u001b[A\n",
      " 72%|███████▏  | 72/100 [00:28<00:11,  2.42it/s]\u001b[A\n",
      " 73%|███████▎  | 73/100 [00:28<00:11,  2.38it/s]\u001b[A\n",
      " 74%|███████▍  | 74/100 [00:29<00:10,  2.46it/s]\u001b[A\n",
      " 75%|███████▌  | 75/100 [00:29<00:10,  2.49it/s]\u001b[A\n",
      " 76%|███████▌  | 76/100 [00:29<00:09,  2.53it/s]\u001b[A\n",
      " 77%|███████▋  | 77/100 [00:30<00:09,  2.49it/s]\u001b[A\n",
      " 78%|███████▊  | 78/100 [00:30<00:09,  2.43it/s]\u001b[A\n",
      " 79%|███████▉  | 79/100 [00:31<00:08,  2.47it/s]\u001b[A\n",
      " 80%|████████  | 80/100 [00:31<00:08,  2.48it/s]\u001b[A\n",
      " 81%|████████  | 81/100 [00:31<00:07,  2.49it/s]\u001b[A\n",
      " 82%|████████▏ | 82/100 [00:32<00:07,  2.38it/s]\u001b[A\n",
      " 83%|████████▎ | 83/100 [00:32<00:07,  2.41it/s]\u001b[A\n",
      " 84%|████████▍ | 84/100 [00:33<00:06,  2.47it/s]\u001b[A\n",
      " 85%|████████▌ | 85/100 [00:33<00:06,  2.50it/s]\u001b[A\n",
      " 86%|████████▌ | 86/100 [00:33<00:05,  2.52it/s]\u001b[A\n",
      " 87%|████████▋ | 87/100 [00:34<00:05,  2.37it/s]\u001b[A\n",
      " 88%|████████▊ | 88/100 [00:34<00:04,  2.43it/s]\u001b[A\n",
      " 89%|████████▉ | 89/100 [00:35<00:04,  2.46it/s]\u001b[A\n",
      " 90%|█████████ | 90/100 [00:35<00:03,  2.52it/s]\u001b[A\n",
      " 91%|█████████ | 91/100 [00:36<00:03,  2.45it/s]\u001b[A\n",
      " 92%|█████████▏| 92/100 [00:36<00:03,  2.48it/s]\u001b[A\n",
      " 93%|█████████▎| 93/100 [00:36<00:02,  2.50it/s]\u001b[A\n",
      " 94%|█████████▍| 94/100 [00:37<00:02,  2.53it/s]\u001b[A\n",
      " 95%|█████████▌| 95/100 [00:37<00:01,  2.54it/s]\u001b[A\n",
      " 96%|█████████▌| 96/100 [00:37<00:01,  2.56it/s]\u001b[A\n",
      " 97%|█████████▋| 97/100 [00:38<00:01,  2.57it/s]\u001b[A\n",
      " 98%|█████████▊| 98/100 [00:38<00:00,  2.55it/s]\u001b[A\n",
      " 99%|█████████▉| 99/100 [00:39<00:00,  2.44it/s]\u001b[A\n",
      "100%|██████████| 100/100 [00:39<00:00,  2.52it/s]\u001b[A\n"
     ]
    }
   ],
   "source": [
    "np_X_data = np.array([process_scan(path[0]) for path in tqdm(df_recognize_paths[:100])]) # processing each file\n"
   ]
  },
  {
   "cell_type": "code",
   "execution_count": 27,
   "id": "32856310-0586-4dcf-b18f-4f7cae9dfd66",
   "metadata": {
    "tags": []
   },
   "outputs": [
    {
     "data": {
      "text/plain": [
       "[PhysicalDevice(name='/physical_device:GPU:0', device_type='GPU'),\n",
       " PhysicalDevice(name='/physical_device:GPU:1', device_type='GPU')]"
      ]
     },
     "execution_count": 27,
     "metadata": {},
     "output_type": "execute_result"
    }
   ],
   "source": [
    "tf.config.list_physical_devices('GPU')"
   ]
  },
  {
   "cell_type": "code",
   "execution_count": 65,
   "id": "2094a499",
   "metadata": {
    "tags": []
   },
   "outputs": [],
   "source": [
    "Y_recognize = df_recognize.iloc[:100,-1].to_numpy()"
   ]
  },
  {
   "cell_type": "code",
   "execution_count": 66,
   "id": "5712bd66",
   "metadata": {
    "tags": []
   },
   "outputs": [],
   "source": [
    "Y_feature = df_brainLoss.iloc[:100,-1].to_numpy()"
   ]
  },
  {
   "cell_type": "code",
   "execution_count": 67,
   "id": "38d2574d-6f1a-4a61-88b6-c07acfdb84be",
   "metadata": {
    "tags": []
   },
   "outputs": [
    {
     "data": {
      "text/plain": [
       "(100, 128, 128)"
      ]
     },
     "execution_count": 67,
     "metadata": {},
     "output_type": "execute_result"
    }
   ],
   "source": [
    "np_X_data.shape"
   ]
  },
  {
   "cell_type": "code",
   "execution_count": 20,
   "id": "632f3ea3-398a-449d-ad85-fe1791e540ff",
   "metadata": {},
   "outputs": [],
   "source": [
    "with open('np_X_data.pickle', 'wb') as f:\n",
    "    pickle.dump(np_X_data, f)\n",
    "with open('Y_recognize.pickle', 'wb') as f:\n",
    "    pickle.dump(Y_recognize, f)\n",
    "with open('Y_feature.pickle', 'wb') as f:\n",
    "    pickle.dump(Y_feature, f)"
   ]
  },
  {
   "cell_type": "markdown",
   "id": "d025b9cf",
   "metadata": {},
   "source": [
    "## data pre process completed"
   ]
  },
  {
   "cell_type": "code",
   "execution_count": 4,
   "id": "cb516aa9-e40e-4106-a1f2-76620551a59f",
   "metadata": {
    "tags": []
   },
   "outputs": [],
   "source": [
    "with open('np_X_data.pickle', 'rb') as f:\n",
    "    np_X_data = pickle.load(f)\n",
    "with open('Y_recognize.pickle', 'rb') as f:\n",
    "    Y_recognize = pickle.load(f)\n",
    "with open('Y_feature.pickle', 'rb') as f:\n",
    "    Y_feature = pickle.load(f)"
   ]
  },
  {
   "cell_type": "code",
   "execution_count": 5,
   "id": "24c34416",
   "metadata": {
    "tags": []
   },
   "outputs": [],
   "source": [
    "from sklearn.model_selection import train_test_split\n",
    "X_train,X_test,Y_train,Y_test = train_test_split(np_X_data,Y_recognize,test_size=0.3,random_state = 42)"
   ]
  },
  {
   "cell_type": "code",
   "execution_count": 6,
   "id": "9418473d",
   "metadata": {
    "tags": []
   },
   "outputs": [
    {
     "data": {
      "text/plain": [
       "(1442, 128, 128, 64)"
      ]
     },
     "execution_count": 6,
     "metadata": {},
     "output_type": "execute_result"
    }
   ],
   "source": [
    "X_train.shape"
   ]
  },
  {
   "cell_type": "code",
   "execution_count": 7,
   "id": "dc1bdf50",
   "metadata": {
    "tags": []
   },
   "outputs": [
    {
     "data": {
      "text/plain": [
       "(618, 128, 128, 64)"
      ]
     },
     "execution_count": 7,
     "metadata": {},
     "output_type": "execute_result"
    }
   ],
   "source": [
    "X_test.shape"
   ]
  },
  {
   "cell_type": "markdown",
   "id": "24a3e949",
   "metadata": {},
   "source": [
    "### Model generation for brain_feature loss"
   ]
  },
  {
   "cell_type": "code",
   "execution_count": 8,
   "id": "b3218199",
   "metadata": {
    "tags": []
   },
   "outputs": [],
   "source": [
    "def rotate(volume):\n",
    "    \"\"\"Rotate the volume by a few degrees\"\"\"\n",
    "\n",
    "    def scipy_rotate(volume):\n",
    "        # define some rotation angles\n",
    "        angles = [-20, 20]\n",
    "        # pick angles at random\n",
    "        angle = random.choice(angles)\n",
    "        # rotate volume\n",
    "        volume = ndimage.rotate(volume, angle, reshape=False)\n",
    "        volume[volume < 0] = 0\n",
    "        volume[volume > 1] = 1\n",
    "        return volume\n",
    "\n",
    "    augmented_volume = tf.numpy_function(scipy_rotate, [volume], tf.float32)\n",
    "    return augmented_volume\n",
    "\n",
    "\n",
    "def train_preprocessing(volume, label):\n",
    "    \"\"\"Process training data by rotating and adding a channel.\"\"\"\n",
    "    # Rotate volume\n",
    "    volume = rotate(volume)\n",
    "    volume = tf.expand_dims(volume, axis=3)\n",
    "    return volume, label\n",
    "\n",
    "\n",
    "def test_preprocessing(volume, label):\n",
    "    \"\"\"Process validation data by only adding a channel.\"\"\"\n",
    "    volume = tf.expand_dims(volume, axis=3)\n",
    "    return volume, label"
   ]
  },
  {
   "cell_type": "code",
   "execution_count": 9,
   "id": "d65a4152",
   "metadata": {
    "tags": []
   },
   "outputs": [
    {
     "name": "stderr",
     "output_type": "stream",
     "text": [
      "2023-04-09 12:10:40.946832: I tensorflow/core/platform/cpu_feature_guard.cc:193] This TensorFlow binary is optimized with oneAPI Deep Neural Network Library (oneDNN) to use the following CPU instructions in performance-critical operations:  AVX2 AVX512F AVX512_VNNI FMA\n",
      "To enable them in other operations, rebuild TensorFlow with the appropriate compiler flags.\n",
      "2023-04-09 12:10:41.573247: I tensorflow/core/common_runtime/gpu/gpu_device.cc:1616] Created device /job:localhost/replica:0/task:0/device:GPU:0 with 38213 MB memory:  -> device: 0, name: NVIDIA A100-PCIE-40GB, pci bus id: 0000:d8:00.0, compute capability: 8.0\n"
     ]
    }
   ],
   "source": [
    "# brainLoss dataloaders (manage memory usage)\n",
    "train_loader_brainLoss = tf.data.Dataset.from_tensor_slices((X_train, Y_train))\n",
    "test_loader_brainLoss = tf.data.Dataset.from_tensor_slices((X_test, Y_test))"
   ]
  },
  {
   "cell_type": "code",
   "execution_count": 10,
   "id": "fe36863a",
   "metadata": {
    "tags": []
   },
   "outputs": [],
   "source": [
    "batch_size = 24\n",
    "\n",
    "# Augment the on the fly during training.\n",
    "train_dataset_brainLoss = (\n",
    "    train_loader_brainLoss.shuffle(len(X_train))\n",
    "    .map(train_preprocessing)\n",
    "    .batch(batch_size)\n",
    "    .prefetch(2)\n",
    ")\n",
    "# Only rescale.\n",
    "test_dataset_brainLoss = (\n",
    "    test_loader_brainLoss.shuffle(len(X_test))\n",
    "    .map(test_preprocessing)\n",
    "    .batch(batch_size)\n",
    "    .prefetch(2)\n",
    ")"
   ]
  },
  {
   "cell_type": "code",
   "execution_count": 11,
   "id": "1253a88f",
   "metadata": {
    "tags": []
   },
   "outputs": [
    {
     "name": "stdout",
     "output_type": "stream",
     "text": [
      "Model: \"3dcnn\"\n",
      "_________________________________________________________________\n",
      " Layer (type)                Output Shape              Param #   \n",
      "=================================================================\n",
      " input_1 (InputLayer)        [(None, 128, 128, 64, 1)  0         \n",
      "                             ]                                   \n",
      "                                                                 \n",
      " conv3d (Conv3D)             (None, 126, 126, 62, 8)   224       \n",
      "                                                                 \n",
      " max_pooling3d (MaxPooling3D  (None, 63, 63, 31, 8)    0         \n",
      " )                                                               \n",
      "                                                                 \n",
      " batch_normalization (BatchN  (None, 63, 63, 31, 8)    32        \n",
      " ormalization)                                                   \n",
      "                                                                 \n",
      " conv3d_1 (Conv3D)           (None, 61, 61, 29, 16)    3472      \n",
      "                                                                 \n",
      " max_pooling3d_1 (MaxPooling  (None, 30, 30, 14, 16)   0         \n",
      " 3D)                                                             \n",
      "                                                                 \n",
      " batch_normalization_1 (Batc  (None, 30, 30, 14, 16)   64        \n",
      " hNormalization)                                                 \n",
      "                                                                 \n",
      " conv3d_2 (Conv3D)           (None, 28, 28, 12, 32)    13856     \n",
      "                                                                 \n",
      " max_pooling3d_2 (MaxPooling  (None, 14, 14, 6, 32)    0         \n",
      " 3D)                                                             \n",
      "                                                                 \n",
      " batch_normalization_2 (Batc  (None, 14, 14, 6, 32)    128       \n",
      " hNormalization)                                                 \n",
      "                                                                 \n",
      " global_average_pooling3d (G  (None, 32)               0         \n",
      " lobalAveragePooling3D)                                          \n",
      "                                                                 \n",
      " dense (Dense)               (None, 64)                2112      \n",
      "                                                                 \n",
      " dropout (Dropout)           (None, 64)                0         \n",
      "                                                                 \n",
      " dense_1 (Dense)             (None, 1)                 65        \n",
      "                                                                 \n",
      "=================================================================\n",
      "Total params: 19,953\n",
      "Trainable params: 19,841\n",
      "Non-trainable params: 112\n",
      "_________________________________________________________________\n"
     ]
    }
   ],
   "source": [
    "def get_model(width=128, height=128, depth=64):\n",
    "    \"\"\"Build a 3D convolutional neural network model.\"\"\"    \n",
    "    inputs = keras.Input((width, height, depth, 1))\n",
    "\n",
    "    x = layers.Conv3D(filters=8, kernel_size=3, activation=\"relu\")(inputs)\n",
    "    x = layers.MaxPool3D(pool_size=2)(x)\n",
    "    x = layers.BatchNormalization()(x)\n",
    "\n",
    "    x = layers.Conv3D(filters=16, kernel_size=3, activation=\"relu\")(x)\n",
    "    x = layers.MaxPool3D(pool_size=2)(x)\n",
    "    x = layers.BatchNormalization()(x)\n",
    "\n",
    "    x = layers.Conv3D(filters=32, kernel_size=3, activation=\"relu\")(x)\n",
    "    x = layers.MaxPool3D(pool_size=2)(x)\n",
    "    x = layers.BatchNormalization()(x)\n",
    "\n",
    "    x = layers.GlobalAveragePooling3D()(x)\n",
    "    x = layers.Dense(units=64, activation=\"relu\")(x)\n",
    "    x = layers.Dropout(0.3)(x)\n",
    "\n",
    "    outputs = layers.Dense(units=1, activation=\"sigmoid\")(x)\n",
    "\n",
    "    # Define the model.\n",
    "    model = keras.Model(inputs, outputs, name=\"3dcnn\")\n",
    "    return model\n",
    "\n",
    "\n",
    "# Build model.\n",
    "model = get_model(width=128, height=128, depth=64)\n",
    "model.summary()"
   ]
  },
  {
   "cell_type": "code",
   "execution_count": 12,
   "id": "011658a5",
   "metadata": {
    "tags": []
   },
   "outputs": [],
   "source": [
    "initial_learning_rate = 0.00001\n",
    "lr_schedule = keras.optimizers.schedules.ExponentialDecay(\n",
    "    initial_learning_rate, decay_steps=100000, decay_rate=0.96, staircase=True\n",
    ")\n",
    "model.compile(\n",
    "    loss=\"binary_crossentropy\",\n",
    "    optimizer=keras.optimizers.Adam(learning_rate=lr_schedule),\n",
    "    metrics=[\"acc\"],\n",
    ")\n",
    "\n",
    "# Define callbacks.\n",
    "checkpoint_cb = keras.callbacks.ModelCheckpoint(\n",
    "    \"3d_brainLoss_class32_1.h5\", save_best_only=True\n",
    ")\n",
    "early_stopping_cb = keras.callbacks.EarlyStopping(monitor=\"val_acc\", patience=15)"
   ]
  },
  {
   "cell_type": "code",
   "execution_count": null,
   "id": "84f13d25-01ad-481c-860d-d9f3b6112133",
   "metadata": {
    "tags": []
   },
   "outputs": [],
   "source": []
  },
  {
   "cell_type": "code",
   "execution_count": 13,
   "id": "4eea2692",
   "metadata": {
    "tags": []
   },
   "outputs": [
    {
     "name": "stdout",
     "output_type": "stream",
     "text": [
      "Epoch 1/30\n"
     ]
    },
    {
     "name": "stderr",
     "output_type": "stream",
     "text": [
      "2023-04-09 12:10:55.576512: I tensorflow/stream_executor/cuda/cuda_dnn.cc:384] Loaded cuDNN version 8100\n",
      "2023-04-09 12:10:57.042650: I tensorflow/stream_executor/cuda/cuda_blas.cc:1614] TensorFloat-32 will be used for the matrix multiplication. This will only be logged once.\n"
     ]
    },
    {
     "name": "stdout",
     "output_type": "stream",
     "text": [
      "61/61 [==============================] - 160s 3s/step - loss: 0.7048 - acc: 0.3967 - val_loss: 0.6949 - val_acc: 0.3430\n",
      "Epoch 2/30\n",
      "61/61 [==============================] - 157s 3s/step - loss: 0.6886 - acc: 0.5881 - val_loss: 0.6945 - val_acc: 0.3430\n",
      "Epoch 3/30\n",
      "61/61 [==============================] - 157s 3s/step - loss: 0.6795 - acc: 0.6394 - val_loss: 0.6947 - val_acc: 0.3430\n",
      "Epoch 4/30\n",
      "61/61 [==============================] - 157s 3s/step - loss: 0.6729 - acc: 0.6519 - val_loss: 0.6957 - val_acc: 0.3430\n",
      "Epoch 5/30\n",
      "61/61 [==============================] - 157s 3s/step - loss: 0.6686 - acc: 0.6553 - val_loss: 0.6950 - val_acc: 0.3430\n",
      "Epoch 6/30\n",
      "61/61 [==============================] - 157s 3s/step - loss: 0.6601 - acc: 0.6630 - val_loss: 0.6850 - val_acc: 0.6570\n",
      "Epoch 7/30\n",
      "61/61 [==============================] - 158s 3s/step - loss: 0.6432 - acc: 0.7198 - val_loss: 0.6606 - val_acc: 0.6570\n",
      "Epoch 8/30\n",
      "61/61 [==============================] - 159s 3s/step - loss: 0.6055 - acc: 0.8502 - val_loss: 0.6180 - val_acc: 0.6570\n",
      "Epoch 9/30\n",
      "61/61 [==============================] - 157s 3s/step - loss: 0.5428 - acc: 0.9182 - val_loss: 0.6077 - val_acc: 0.8706\n",
      "Epoch 10/30\n",
      "61/61 [==============================] - 158s 3s/step - loss: 0.4886 - acc: 0.9411 - val_loss: 0.6278 - val_acc: 0.5906\n",
      "Epoch 11/30\n",
      "61/61 [==============================] - 158s 3s/step - loss: 0.4508 - acc: 0.9521 - val_loss: 0.6122 - val_acc: 0.4741\n",
      "Epoch 12/30\n",
      "61/61 [==============================] - 157s 3s/step - loss: 0.4137 - acc: 0.9626 - val_loss: 0.5866 - val_acc: 0.5194\n",
      "Epoch 13/30\n",
      "61/61 [==============================] - 158s 3s/step - loss: 0.3912 - acc: 0.9591 - val_loss: 0.5237 - val_acc: 0.8220\n",
      "Epoch 14/30\n",
      "61/61 [==============================] - 157s 3s/step - loss: 0.3680 - acc: 0.9619 - val_loss: 0.4685 - val_acc: 0.9061\n",
      "Epoch 15/30\n",
      "61/61 [==============================] - 158s 3s/step - loss: 0.3493 - acc: 0.9542 - val_loss: 0.4808 - val_acc: 0.8608\n",
      "Epoch 16/30\n",
      "61/61 [==============================] - 157s 3s/step - loss: 0.3271 - acc: 0.9646 - val_loss: 0.4065 - val_acc: 0.9256\n",
      "Epoch 17/30\n",
      "61/61 [==============================] - 158s 3s/step - loss: 0.3140 - acc: 0.9619 - val_loss: 0.3386 - val_acc: 0.9595\n",
      "Epoch 18/30\n",
      "61/61 [==============================] - 156s 3s/step - loss: 0.3020 - acc: 0.9632 - val_loss: 0.2875 - val_acc: 0.9790\n",
      "Epoch 19/30\n",
      "61/61 [==============================] - 157s 3s/step - loss: 0.2925 - acc: 0.9619 - val_loss: 0.3304 - val_acc: 0.9482\n",
      "Epoch 20/30\n",
      "61/61 [==============================] - 158s 3s/step - loss: 0.2843 - acc: 0.9598 - val_loss: 0.2683 - val_acc: 0.9773\n",
      "Epoch 21/30\n",
      "61/61 [==============================] - 158s 3s/step - loss: 0.2751 - acc: 0.9626 - val_loss: 0.2545 - val_acc: 0.9773\n",
      "Epoch 22/30\n",
      "61/61 [==============================] - 160s 3s/step - loss: 0.2740 - acc: 0.9535 - val_loss: 0.2447 - val_acc: 0.9773\n",
      "Epoch 23/30\n",
      "61/61 [==============================] - 159s 3s/step - loss: 0.2635 - acc: 0.9591 - val_loss: 0.2224 - val_acc: 0.9822\n",
      "Epoch 24/30\n",
      "61/61 [==============================] - 157s 3s/step - loss: 0.2559 - acc: 0.9626 - val_loss: 0.2200 - val_acc: 0.9790\n",
      "Epoch 25/30\n",
      "61/61 [==============================] - 157s 3s/step - loss: 0.2542 - acc: 0.9563 - val_loss: 0.2142 - val_acc: 0.9773\n",
      "Epoch 26/30\n",
      "61/61 [==============================] - 157s 3s/step - loss: 0.2407 - acc: 0.9605 - val_loss: 0.1963 - val_acc: 0.9838\n",
      "Epoch 27/30\n",
      "61/61 [==============================] - 157s 3s/step - loss: 0.2372 - acc: 0.9508 - val_loss: 0.1773 - val_acc: 0.9871\n",
      "Epoch 28/30\n",
      "61/61 [==============================] - 157s 3s/step - loss: 0.2271 - acc: 0.9619 - val_loss: 0.1680 - val_acc: 0.9871\n",
      "Epoch 29/30\n",
      "61/61 [==============================] - 158s 3s/step - loss: 0.2212 - acc: 0.9626 - val_loss: 0.1810 - val_acc: 0.9790\n",
      "Epoch 30/30\n",
      "61/61 [==============================] - 157s 3s/step - loss: 0.2274 - acc: 0.9542 - val_loss: 0.1710 - val_acc: 0.9838\n"
     ]
    },
    {
     "data": {
      "text/plain": [
       "<keras.callbacks.History at 0x153e8816ea70>"
      ]
     },
     "execution_count": 13,
     "metadata": {},
     "output_type": "execute_result"
    }
   ],
   "source": [
    "epochs = 30\n",
    "model.fit(\n",
    "    train_dataset_brainLoss,\n",
    "    validation_data=test_dataset_brainLoss,\n",
    "    epochs=epochs,\n",
    "    shuffle=True,\n",
    "    verbose=1,\n",
    "    callbacks=[checkpoint_cb, early_stopping_cb],\n",
    ")"
   ]
  },
  {
   "cell_type": "code",
   "execution_count": 14,
   "id": "d803ce51",
   "metadata": {
    "tags": []
   },
   "outputs": [
    {
     "data": {
      "image/png": "[encoded data removed]",
      "text/plain": [
       "<Figure size 2000x300 with 2 Axes>"
      ]
     },
     "metadata": {},
     "output_type": "display_data"
    }
   ],
   "source": [
    "fig, ax = plt.subplots(1, 2, figsize=(20, 3))\n",
    "ax = ax.ravel()\n",
    "\n",
    "for i, metric in enumerate([\"acc\", \"loss\"]):\n",
    "    ax[i].plot(model.history.history[metric])\n",
    "    ax[i].plot(model.history.history[\"val_\" + metric])\n",
    "    ax[i].set_title(\"Model {}\".format(metric))\n",
    "    ax[i].set_xlabel(\"epochs\")\n",
    "    ax[i].set_ylabel(metric)\n",
    "    ax[i].legend([\"train\", \"val\"])"
   ]
  },
  {
   "cell_type": "code",
   "execution_count": 15,
   "id": "9363877c",
   "metadata": {
    "tags": []
   },
   "outputs": [],
   "source": [
    "# Load saved model & weights\n",
    "model = keras.models.load_model('3d_brainLoss_class32_1.h5')\n",
    "model.load_weights(\"3d_brainLoss_class32_1.h5\")"
   ]
  },
  {
   "cell_type": "code",
   "execution_count": 16,
   "id": "58fc84fd",
   "metadata": {
    "tags": []
   },
   "outputs": [
    {
     "name": "stdout",
     "output_type": "stream",
     "text": [
      "1/1 [==============================] - 0s 121ms/step\n"
     ]
    },
    {
     "data": {
      "text/plain": [
       "array([0.8863324], dtype=float32)"
      ]
     },
     "execution_count": 16,
     "metadata": {},
     "output_type": "execute_result"
    }
   ],
   "source": [
    "model.predict(np.expand_dims(X_test[10], axis=0))[0]"
   ]
  },
  {
   "cell_type": "code",
   "execution_count": 18,
   "id": "610ffa6c",
   "metadata": {
    "tags": []
   },
   "outputs": [
    {
     "data": {
      "text/plain": [
       "1"
      ]
     },
     "execution_count": 18,
     "metadata": {},
     "output_type": "execute_result"
    }
   ],
   "source": [
    "Y_test[10]"
   ]
  },
  {
   "cell_type": "code",
   "execution_count": null,
   "id": "8b314710",
   "metadata": {},
   "outputs": [],
   "source": []
  }
 ],
 "metadata": {
  "kernelspec": {
   "display_name": "Python 3 (ipykernel)",
   "language": "python",
   "name": "python3"
  },
  "language_info": {
   "codemirror_mode": {
    "name": "ipython",
    "version": 3
   },
   "file_extension": ".py",
   "mimetype": "text/x-python",
   "name": "python",
   "nbconvert_exporter": "python",
   "pygments_lexer": "ipython3",
   "version": "3.10.10"
  }
 },
 "nbformat": 4,
 "nbformat_minor": 5
}
