{
 "cells": [
  {
   "cell_type": "code",
   "execution_count": 1,
   "id": "16d44cef",
   "metadata": {
    "tags": []
   },
   "outputs": [
    {
     "name": "stderr",
     "output_type": "stream",
     "text": [
      "2023-04-16 15:13:57.405702: I tensorflow/core/platform/cpu_feature_guard.cc:193] This TensorFlow binary is optimized with oneAPI Deep Neural Network Library (oneDNN) to use the following CPU instructions in performance-critical operations:  AVX2 AVX512F AVX512_VNNI FMA\n",
      "To enable them in other operations, rebuild TensorFlow with the appropriate compiler flags.\n",
      "2023-04-16 15:13:57.500850: I tensorflow/core/util/util.cc:169] oneDNN custom operations are on. You may see slightly different numerical results due to floating-point round-off errors from different computation orders. To turn them off, set the environment variable `TF_ENABLE_ONEDNN_OPTS=0`.\n",
      "2023-04-16 15:13:57.530426: E tensorflow/stream_executor/cuda/cuda_blas.cc:2981] Unable to register cuBLAS factory: Attempting to register factory for plugin cuBLAS when one has already been registered\n",
      "2023-04-16 15:13:58.307790: W tensorflow/stream_executor/platform/default/dso_loader.cc:64] Could not load dynamic library 'libnvinfer.so.7'; dlerror: libnvinfer.so.7: cannot open shared object file: No such file or directory; LD_LIBRARY_PATH: /software/spackages/linux-rocky8-x86_64/gcc-9.5.0/cudnn-8.1.0.77-11.2-o55zmcsaca6xrl5uyyaalmxt2nabqytf/lib64:/software/spackages/linux-rocky8-x86_64/gcc-9.5.0/cuda-11.2.2-ud5pedf473of4in4vhulabsyve3snph4/lib64:/software/spackages/linux-rocky8-x86_64/gcc-9.5.0/libxml2-2.9.13-6my53cs3ezjrffp6uflwnpoo4sq7kon2/lib:/software/spackages/linux-rocky8-x86_64/gcc-9.5.0/anaconda3-2022.05-zyrazrj6uvrtukupqzhaslr63w7hj6in/lib\n",
      "2023-04-16 15:13:58.307847: W tensorflow/stream_executor/platform/default/dso_loader.cc:64] Could not load dynamic library 'libnvinfer_plugin.so.7'; dlerror: libnvinfer_plugin.so.7: cannot open shared object file: No such file or directory; LD_LIBRARY_PATH: /software/spackages/linux-rocky8-x86_64/gcc-9.5.0/cudnn-8.1.0.77-11.2-o55zmcsaca6xrl5uyyaalmxt2nabqytf/lib64:/software/spackages/linux-rocky8-x86_64/gcc-9.5.0/cuda-11.2.2-ud5pedf473of4in4vhulabsyve3snph4/lib64:/software/spackages/linux-rocky8-x86_64/gcc-9.5.0/libxml2-2.9.13-6my53cs3ezjrffp6uflwnpoo4sq7kon2/lib:/software/spackages/linux-rocky8-x86_64/gcc-9.5.0/anaconda3-2022.05-zyrazrj6uvrtukupqzhaslr63w7hj6in/lib\n",
      "2023-04-16 15:13:58.307851: W tensorflow/compiler/tf2tensorrt/utils/py_utils.cc:38] TF-TRT Warning: Cannot dlopen some TensorRT libraries. If you would like to use Nvidia GPU with TensorRT, please make sure the missing libraries mentioned above are installed properly.\n"
     ]
    }
   ],
   "source": [
    "import os \n",
    "import pickle\n",
    "import numpy as np\n",
    "import pandas as pd\n",
    "import nibabel as nib\n",
    "import tensorflow as tf\n",
    "from scipy import ndimage\n",
    "from tensorflow import keras\n",
    "from tensorflow.keras import layers\n",
    "from sklearn.metrics import confusion_matrix\n",
    "from sklearn.metrics import classification_report"
   ]
  },
  {
   "cell_type": "code",
   "execution_count": null,
   "id": "d2f11239-c17e-41ae-a85c-027dea1231ee",
   "metadata": {},
   "outputs": [],
   "source": []
  },
  {
   "cell_type": "code",
   "execution_count": 2,
   "id": "4b57d042-1e62-4420-a2e8-2f502ad0c843",
   "metadata": {
    "tags": []
   },
   "outputs": [
    {
     "data": {
      "text/plain": [
       "'/home/cbasire/Data Mining'"
      ]
     },
     "execution_count": 2,
     "metadata": {},
     "output_type": "execute_result"
    }
   ],
   "source": [
    "os.getcwd()"
   ]
  },
  {
   "cell_type": "code",
   "execution_count": 3,
   "id": "d6ab0f78",
   "metadata": {
    "tags": []
   },
   "outputs": [],
   "source": [
    "from glob import glob\n",
    "import matplotlib.pyplot as plt\n",
    "import random\n",
    "import time\n",
    "from tqdm import tqdm\n",
    "\n",
    "start_path = '/home/cbasire/Data Mining/BSE_BET_DATA/'\n",
    "image_file_paths = glob(start_path+'files/*')\n",
    "\n"
   ]
  },
  {
   "cell_type": "markdown",
   "id": "d025b9cf",
   "metadata": {},
   "source": [
    "## data pre process completed"
   ]
  },
  {
   "cell_type": "code",
   "execution_count": 4,
   "id": "cb516aa9-e40e-4106-a1f2-76620551a59f",
   "metadata": {
    "tags": []
   },
   "outputs": [],
   "source": [
    "with open('np_X_data.pickle', 'rb') as f:\n",
    "    np_X_data = pickle.load(f)\n",
    "with open('Y_feature.pickle', 'rb') as f:\n",
    "    Y_feature = pickle.load(f)"
   ]
  },
  {
   "cell_type": "code",
   "execution_count": 5,
   "id": "4ed7e195-803f-4713-9f36-18590a9fcadf",
   "metadata": {
    "tags": []
   },
   "outputs": [],
   "source": [
    "with open('np_X_data_rotate.pickle', 'rb') as f:\n",
    "    np_X_data_rotate = pickle.load(f)\n",
    "with open('Y_feature_rotate.pickle', 'rb') as f:\n",
    "    Y_feature_rotate = pickle.load(f)"
   ]
  },
  {
   "cell_type": "code",
   "execution_count": 6,
   "id": "be0923a0-e5bc-4653-8fb9-3546abdfecd1",
   "metadata": {
    "tags": []
   },
   "outputs": [],
   "source": [
    "np_X_data_train = np.concatenate((np_X_data,np_X_data_rotate),axis = 0)"
   ]
  },
  {
   "cell_type": "code",
   "execution_count": 7,
   "id": "971f2ef4-fee7-49bd-9f44-6742eaf2fec4",
   "metadata": {},
   "outputs": [
    {
     "data": {
      "text/plain": [
       "(4120, 128, 128, 64)"
      ]
     },
     "execution_count": 7,
     "metadata": {},
     "output_type": "execute_result"
    }
   ],
   "source": [
    "np_X_data_train.shape"
   ]
  },
  {
   "cell_type": "code",
   "execution_count": 8,
   "id": "44d2213d-6e64-4f0a-9583-9d8a4b27065b",
   "metadata": {},
   "outputs": [],
   "source": [
    "Y_feature_train = np.concatenate((Y_feature,Y_feature_rotate),axis = 0)"
   ]
  },
  {
   "cell_type": "code",
   "execution_count": 9,
   "id": "24c34416",
   "metadata": {
    "tags": []
   },
   "outputs": [],
   "source": [
    "from sklearn.model_selection import train_test_split\n",
    "X_train,X_test,Y_train,Y_test = train_test_split(np_X_data_train,Y_feature_train,test_size=0.3,random_state = 42)"
   ]
  },
  {
   "cell_type": "code",
   "execution_count": null,
   "id": "6d79788b-d930-4a3a-a737-6e77d07a285f",
   "metadata": {},
   "outputs": [],
   "source": []
  },
  {
   "cell_type": "code",
   "execution_count": 10,
   "id": "9418473d",
   "metadata": {
    "tags": []
   },
   "outputs": [
    {
     "data": {
      "text/plain": [
       "(2884, 128, 128, 64)"
      ]
     },
     "execution_count": 10,
     "metadata": {},
     "output_type": "execute_result"
    }
   ],
   "source": [
    "X_train.shape"
   ]
  },
  {
   "cell_type": "code",
   "execution_count": 11,
   "id": "dc1bdf50",
   "metadata": {
    "tags": []
   },
   "outputs": [
    {
     "data": {
      "text/plain": [
       "(1236, 128, 128, 64)"
      ]
     },
     "execution_count": 11,
     "metadata": {},
     "output_type": "execute_result"
    }
   ],
   "source": [
    "X_test.shape"
   ]
  },
  {
   "cell_type": "markdown",
   "id": "24a3e949",
   "metadata": {},
   "source": [
    "### Model generation for brain_feature loss"
   ]
  },
  {
   "cell_type": "code",
   "execution_count": 12,
   "id": "b3218199",
   "metadata": {
    "tags": []
   },
   "outputs": [],
   "source": [
    "def rotate(volume):\n",
    "    \"\"\"Rotate the volume by a few degrees\"\"\"\n",
    "\n",
    "    def scipy_rotate(volume):\n",
    "        # define some rotation angles\n",
    "        angles = [-20, 20]\n",
    "        # pick angles at random\n",
    "        angle = random.choice(angles)\n",
    "        # rotate volume\n",
    "        volume = ndimage.rotate(volume, angle, reshape=False)\n",
    "        volume[volume < 0] = 0\n",
    "        volume[volume > 1] = 1\n",
    "        return volume\n",
    "\n",
    "    augmented_volume = tf.numpy_function(scipy_rotate, [volume], tf.float32)\n",
    "    return augmented_volume\n",
    "\n",
    "\n",
    "def train_preprocessing(volume, label):\n",
    "    \"\"\"Process training data by rotating and adding a channel.\"\"\"\n",
    "    # Rotate volume\n",
    "    volume = rotate(volume)\n",
    "    volume = tf.expand_dims(volume, axis=3)\n",
    "    return volume, label\n",
    "\n",
    "\n",
    "def test_preprocessing(volume, label):\n",
    "    \"\"\"Process validation data by only adding a channel.\"\"\"\n",
    "    volume = tf.expand_dims(volume, axis=3)\n",
    "    return volume, label"
   ]
  },
  {
   "cell_type": "code",
   "execution_count": 13,
   "id": "d65a4152",
   "metadata": {
    "tags": []
   },
   "outputs": [
    {
     "name": "stderr",
     "output_type": "stream",
     "text": [
      "2023-04-16 15:14:34.310817: I tensorflow/core/platform/cpu_feature_guard.cc:193] This TensorFlow binary is optimized with oneAPI Deep Neural Network Library (oneDNN) to use the following CPU instructions in performance-critical operations:  AVX2 AVX512F AVX512_VNNI FMA\n",
      "To enable them in other operations, rebuild TensorFlow with the appropriate compiler flags.\n",
      "2023-04-16 15:14:35.422864: I tensorflow/core/common_runtime/gpu/gpu_device.cc:1616] Created device /job:localhost/replica:0/task:0/device:GPU:0 with 78848 MB memory:  -> device: 0, name: NVIDIA A100 80GB PCIe, pci bus id: 0000:17:00.0, compute capability: 8.0\n",
      "2023-04-16 15:14:35.425208: I tensorflow/core/common_runtime/gpu/gpu_device.cc:1616] Created device /job:localhost/replica:0/task:0/device:GPU:1 with 78928 MB memory:  -> device: 1, name: NVIDIA A100 80GB PCIe, pci bus id: 0000:ca:00.0, compute capability: 8.0\n"
     ]
    }
   ],
   "source": [
    "# brainLoss dataloaders (manage memory usage)\n",
    "train_loader_brainLoss = tf.data.Dataset.from_tensor_slices((X_train, Y_train))\n",
    "test_loader_brainLoss = tf.data.Dataset.from_tensor_slices((X_test, Y_test))"
   ]
  },
  {
   "cell_type": "code",
   "execution_count": 14,
   "id": "fe36863a",
   "metadata": {
    "tags": []
   },
   "outputs": [],
   "source": [
    "batch_size = 24\n",
    "\n",
    "# Augment the on the fly during training.\n",
    "train_dataset_brainLoss = (\n",
    "    train_loader_brainLoss.shuffle(len(X_train))\n",
    "    .map(train_preprocessing)\n",
    "    .batch(batch_size)\n",
    "    .prefetch(2)\n",
    ")\n",
    "# Only rescale.\n",
    "test_dataset_brainLoss = (\n",
    "    test_loader_brainLoss.shuffle(len(X_test))\n",
    "    .map(test_preprocessing)\n",
    "    .batch(batch_size)\n",
    "    .prefetch(2)\n",
    ")"
   ]
  },
  {
   "cell_type": "code",
   "execution_count": 15,
   "id": "1253a88f",
   "metadata": {
    "tags": []
   },
   "outputs": [
    {
     "name": "stdout",
     "output_type": "stream",
     "text": [
      "Model: \"3dcnnfeature\"\n",
      "_________________________________________________________________\n",
      " Layer (type)                Output Shape              Param #   \n",
      "=================================================================\n",
      " input_1 (InputLayer)        [(None, 128, 128, 64, 1)  0         \n",
      "                             ]                                   \n",
      "                                                                 \n",
      " conv3d (Conv3D)             (None, 126, 126, 62, 8)   224       \n",
      "                                                                 \n",
      " max_pooling3d (MaxPooling3D  (None, 63, 63, 31, 8)    0         \n",
      " )                                                               \n",
      "                                                                 \n",
      " batch_normalization (BatchN  (None, 63, 63, 31, 8)    32        \n",
      " ormalization)                                                   \n",
      "                                                                 \n",
      " conv3d_1 (Conv3D)           (None, 61, 61, 29, 16)    3472      \n",
      "                                                                 \n",
      " max_pooling3d_1 (MaxPooling  (None, 30, 30, 14, 16)   0         \n",
      " 3D)                                                             \n",
      "                                                                 \n",
      " batch_normalization_1 (Batc  (None, 30, 30, 14, 16)   64        \n",
      " hNormalization)                                                 \n",
      "                                                                 \n",
      " conv3d_2 (Conv3D)           (None, 28, 28, 12, 32)    13856     \n",
      "                                                                 \n",
      " max_pooling3d_2 (MaxPooling  (None, 14, 14, 6, 32)    0         \n",
      " 3D)                                                             \n",
      "                                                                 \n",
      " batch_normalization_2 (Batc  (None, 14, 14, 6, 32)    128       \n",
      " hNormalization)                                                 \n",
      "                                                                 \n",
      " global_average_pooling3d (G  (None, 32)               0         \n",
      " lobalAveragePooling3D)                                          \n",
      "                                                                 \n",
      " dense (Dense)               (None, 64)                2112      \n",
      "                                                                 \n",
      " dropout (Dropout)           (None, 64)                0         \n",
      "                                                                 \n",
      " dense_1 (Dense)             (None, 1)                 65        \n",
      "                                                                 \n",
      "=================================================================\n",
      "Total params: 19,953\n",
      "Trainable params: 19,841\n",
      "Non-trainable params: 112\n",
      "_________________________________________________________________\n"
     ]
    }
   ],
   "source": [
    "def get_model(width=128, height=128, depth=64):\n",
    "    \"\"\"Build a 3D convolutional neural network model.\"\"\"    \n",
    "    inputs = keras.Input((width, height, depth, 1))\n",
    "\n",
    "    x = layers.Conv3D(filters=8, kernel_size=3, activation=\"relu\")(inputs)\n",
    "    x = layers.MaxPool3D(pool_size=2)(x)\n",
    "    x = layers.BatchNormalization()(x)\n",
    "\n",
    "    x = layers.Conv3D(filters=16, kernel_size=3, activation=\"relu\")(x)\n",
    "    x = layers.MaxPool3D(pool_size=2)(x)\n",
    "    x = layers.BatchNormalization()(x)\n",
    "\n",
    "    x = layers.Conv3D(filters=32, kernel_size=3, activation=\"relu\")(x)\n",
    "    x = layers.MaxPool3D(pool_size=2)(x)\n",
    "    x = layers.BatchNormalization()(x)\n",
    "\n",
    "    x = layers.GlobalAveragePooling3D()(x)\n",
    "    x = layers.Dense(units=64, activation=\"relu\")(x)\n",
    "    x = layers.Dropout(0.3)(x)\n",
    "\n",
    "    outputs = layers.Dense(units=1, activation=\"sigmoid\")(x)\n",
    "\n",
    "    # Define the model.\n",
    "    model = keras.Model(inputs, outputs, name=\"3dcnnfeature\")\n",
    "    return model\n",
    "\n",
    "\n",
    "# Build model.\n",
    "model = get_model(width=128, height=128, depth=64)\n",
    "model.summary()"
   ]
  },
  {
   "cell_type": "code",
   "execution_count": 16,
   "id": "011658a5",
   "metadata": {
    "tags": []
   },
   "outputs": [],
   "source": [
    "initial_learning_rate = 0.00001\n",
    "lr_schedule = keras.optimizers.schedules.ExponentialDecay(\n",
    "    initial_learning_rate, decay_steps=100000, decay_rate=0.96, staircase=True\n",
    ")\n",
    "model.compile(\n",
    "    loss=\"binary_crossentropy\",\n",
    "    optimizer=keras.optimizers.Adam(learning_rate=lr_schedule),\n",
    "    metrics=[\"acc\"],\n",
    ")\n",
    "\n",
    "# Define callbacks.\n",
    "checkpoint_cb = keras.callbacks.ModelCheckpoint(\n",
    "    \"3d_brainLoss.h5\", save_best_only=True\n",
    ")\n",
    "early_stopping_cb = keras.callbacks.EarlyStopping(monitor=\"val_acc\", patience=15)"
   ]
  },
  {
   "cell_type": "code",
   "execution_count": null,
   "id": "84f13d25-01ad-481c-860d-d9f3b6112133",
   "metadata": {
    "tags": []
   },
   "outputs": [],
   "source": []
  },
  {
   "cell_type": "code",
   "execution_count": 17,
   "id": "4eea2692",
   "metadata": {
    "tags": []
   },
   "outputs": [
    {
     "name": "stdout",
     "output_type": "stream",
     "text": [
      "Epoch 1/30\n"
     ]
    },
    {
     "name": "stderr",
     "output_type": "stream",
     "text": [
      "2023-04-16 15:14:53.324364: I tensorflow/stream_executor/cuda/cuda_dnn.cc:384] Loaded cuDNN version 8100\n",
      "2023-04-16 15:14:55.070216: I tensorflow/stream_executor/cuda/cuda_blas.cc:1614] TensorFloat-32 will be used for the matrix multiplication. This will only be logged once.\n"
     ]
    },
    {
     "name": "stdout",
     "output_type": "stream",
     "text": [
      "121/121 [==============================] - 301s 2s/step - loss: 0.6456 - acc: 0.7268 - val_loss: 0.7065 - val_acc: 0.3600\n",
      "Epoch 2/30\n",
      "121/121 [==============================] - 299s 2s/step - loss: 0.5494 - acc: 0.9286 - val_loss: 0.6172 - val_acc: 0.8617\n",
      "Epoch 3/30\n",
      "121/121 [==============================] - 299s 2s/step - loss: 0.4791 - acc: 0.9397 - val_loss: 0.4886 - val_acc: 0.8107\n",
      "Epoch 4/30\n",
      "121/121 [==============================] - 299s 2s/step - loss: 0.4267 - acc: 0.9431 - val_loss: 0.3606 - val_acc: 0.9684\n",
      "Epoch 5/30\n",
      "121/121 [==============================] - 297s 2s/step - loss: 0.3878 - acc: 0.9424 - val_loss: 0.3040 - val_acc: 0.9757\n",
      "Epoch 6/30\n",
      "121/121 [==============================] - 297s 2s/step - loss: 0.3608 - acc: 0.9359 - val_loss: 0.2823 - val_acc: 0.9814\n",
      "Epoch 7/30\n",
      "121/121 [==============================] - 298s 2s/step - loss: 0.3420 - acc: 0.9376 - val_loss: 0.2665 - val_acc: 0.9806\n",
      "Epoch 8/30\n",
      "121/121 [==============================] - 299s 2s/step - loss: 0.3231 - acc: 0.9397 - val_loss: 0.2507 - val_acc: 0.9806\n",
      "Epoch 9/30\n",
      "121/121 [==============================] - 298s 2s/step - loss: 0.3058 - acc: 0.9424 - val_loss: 0.2351 - val_acc: 0.9790\n",
      "Epoch 10/30\n",
      "121/121 [==============================] - 301s 2s/step - loss: 0.2920 - acc: 0.9445 - val_loss: 0.2205 - val_acc: 0.9757\n",
      "Epoch 11/30\n",
      "121/121 [==============================] - 298s 2s/step - loss: 0.2764 - acc: 0.9424 - val_loss: 0.2069 - val_acc: 0.9749\n",
      "Epoch 12/30\n",
      "121/121 [==============================] - 297s 2s/step - loss: 0.2646 - acc: 0.9463 - val_loss: 0.1961 - val_acc: 0.9757\n",
      "Epoch 13/30\n",
      "121/121 [==============================] - 298s 2s/step - loss: 0.2514 - acc: 0.9393 - val_loss: 0.1821 - val_acc: 0.9790\n",
      "Epoch 14/30\n",
      "121/121 [==============================] - 298s 2s/step - loss: 0.2417 - acc: 0.9435 - val_loss: 0.1745 - val_acc: 0.9790\n",
      "Epoch 15/30\n",
      "121/121 [==============================] - 297s 2s/step - loss: 0.2407 - acc: 0.9417 - val_loss: 0.1689 - val_acc: 0.9798\n",
      "Epoch 16/30\n",
      "121/121 [==============================] - 298s 2s/step - loss: 0.2251 - acc: 0.9466 - val_loss: 0.1611 - val_acc: 0.9782\n",
      "Epoch 17/30\n",
      "121/121 [==============================] - 298s 2s/step - loss: 0.2187 - acc: 0.9487 - val_loss: 0.1590 - val_acc: 0.9782\n",
      "Epoch 18/30\n",
      "121/121 [==============================] - 297s 2s/step - loss: 0.2166 - acc: 0.9445 - val_loss: 0.1533 - val_acc: 0.9790\n",
      "Epoch 19/30\n",
      "121/121 [==============================] - 298s 2s/step - loss: 0.2054 - acc: 0.9494 - val_loss: 0.1463 - val_acc: 0.9782\n",
      "Epoch 20/30\n",
      "121/121 [==============================] - 299s 2s/step - loss: 0.2020 - acc: 0.9466 - val_loss: 0.1421 - val_acc: 0.9790\n",
      "Epoch 21/30\n",
      "121/121 [==============================] - 298s 2s/step - loss: 0.1979 - acc: 0.9483 - val_loss: 0.1387 - val_acc: 0.9782\n"
     ]
    },
    {
     "data": {
      "text/plain": [
       "<keras.callbacks.History at 0x151750140fa0>"
      ]
     },
     "execution_count": 17,
     "metadata": {},
     "output_type": "execute_result"
    }
   ],
   "source": [
    "epochs = 30\n",
    "model.fit(\n",
    "    train_dataset_brainLoss,\n",
    "    validation_data=test_dataset_brainLoss,\n",
    "    epochs=epochs,\n",
    "    shuffle=True,\n",
    "    verbose=1,\n",
    "    callbacks=[checkpoint_cb, early_stopping_cb],\n",
    ")"
   ]
  },
  {
   "cell_type": "code",
   "execution_count": 18,
   "id": "d803ce51",
   "metadata": {
    "tags": []
   },
   "outputs": [
    {
     "data": {
      "image/png": "[encoded data removed]",
      "text/plain": [
       "<Figure size 2000x300 with 2 Axes>"
      ]
     },
     "metadata": {},
     "output_type": "display_data"
    }
   ],
   "source": [
    "fig, ax = plt.subplots(1, 2, figsize=(20, 3))\n",
    "ax = ax.ravel()\n",
    "\n",
    "for i, metric in enumerate([\"acc\", \"loss\"]):\n",
    "    ax[i].plot(model.history.history[metric])\n",
    "    ax[i].plot(model.history.history[\"val_\" + metric])\n",
    "    ax[i].set_title(\"Model {}\".format(metric))\n",
    "    ax[i].set_xlabel(\"epochs\")\n",
    "    ax[i].set_ylabel(metric)\n",
    "    ax[i].legend([\"train\", \"val\"])"
   ]
  },
  {
   "cell_type": "code",
   "execution_count": 20,
   "id": "9363877c",
   "metadata": {
    "tags": []
   },
   "outputs": [],
   "source": [
    "# Load saved model & weights\n",
    "model = keras.models.load_model('3d_brainLoss.h5')\n",
    "model.load_weights(\"3d_brainLoss.h5\")"
   ]
  },
  {
   "cell_type": "code",
   "execution_count": 21,
   "id": "58fc84fd",
   "metadata": {
    "tags": []
   },
   "outputs": [
    {
     "name": "stdout",
     "output_type": "stream",
     "text": [
      "1/1 [==============================] - 0s 126ms/step\n"
     ]
    },
    {
     "data": {
      "text/plain": [
       "array([0.827277], dtype=float32)"
      ]
     },
     "execution_count": 21,
     "metadata": {},
     "output_type": "execute_result"
    }
   ],
   "source": [
    "model.predict(np.expand_dims(X_test[10], axis=0))[0]"
   ]
  },
  {
   "cell_type": "code",
   "execution_count": null,
   "id": "610ffa6c",
   "metadata": {
    "tags": []
   },
   "outputs": [],
   "source": [
    "Y_test[10]"
   ]
  },
  {
   "cell_type": "code",
   "execution_count": null,
   "id": "8b314710",
   "metadata": {},
   "outputs": [],
   "source": []
  }
 ],
 "metadata": {
  "kernelspec": {
   "display_name": "Python 3 (ipykernel)",
   "language": "python",
   "name": "python3"
  },
  "language_info": {
   "codemirror_mode": {
    "name": "ipython",
    "version": 3
   },
   "file_extension": ".py",
   "mimetype": "text/x-python",
   "name": "python",
   "nbconvert_exporter": "python",
   "pygments_lexer": "ipython3",
   "version": "3.10.10"
  }
 },
 "nbformat": 4,
 "nbformat_minor": 5
}
