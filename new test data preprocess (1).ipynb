{
 "cells": [
  {
   "cell_type": "code",
   "execution_count": 1,
   "id": "c24773ad",
   "metadata": {
    "tags": []
   },
   "outputs": [],
   "source": [
    "import os \n",
    "import numpy as np\n",
    "from scipy import ndimage\n",
    "import matplotlib.pyplot as plt"
   ]
  },
  {
   "cell_type": "code",
   "execution_count": 2,
   "id": "d976c111",
   "metadata": {
    "tags": []
   },
   "outputs": [],
   "source": [
    "import nibabel as nib\n",
    "import pandas as pd\n",
    "from glob import glob\n",
    "import time\n",
    "from tqdm import tqdm"
   ]
  },
  {
   "cell_type": "code",
   "execution_count": 3,
   "id": "b8ae3075",
   "metadata": {
    "tags": []
   },
   "outputs": [
    {
     "name": "stderr",
     "output_type": "stream",
     "text": [
      "2023-04-21 10:54:59.310008: I tensorflow/core/platform/cpu_feature_guard.cc:193] This TensorFlow binary is optimized with oneAPI Deep Neural Network Library (oneDNN) to use the following CPU instructions in performance-critical operations:  AVX2 AVX512F AVX512_VNNI FMA\n",
      "To enable them in other operations, rebuild TensorFlow with the appropriate compiler flags.\n",
      "2023-04-21 10:54:59.680710: I tensorflow/core/util/util.cc:169] oneDNN custom operations are on. You may see slightly different numerical results due to floating-point round-off errors from different computation orders. To turn them off, set the environment variable `TF_ENABLE_ONEDNN_OPTS=0`.\n",
      "2023-04-21 10:54:59.861714: E tensorflow/stream_executor/cuda/cuda_blas.cc:2981] Unable to register cuBLAS factory: Attempting to register factory for plugin cuBLAS when one has already been registered\n",
      "2023-04-21 10:55:01.376641: W tensorflow/stream_executor/platform/default/dso_loader.cc:64] Could not load dynamic library 'libnvinfer.so.7'; dlerror: libnvinfer.so.7: cannot open shared object file: No such file or directory; LD_LIBRARY_PATH: /software/spackages/linux-rocky8-x86_64/gcc-9.5.0/cudnn-8.1.0.77-11.2-o55zmcsaca6xrl5uyyaalmxt2nabqytf/lib64:/software/spackages/linux-rocky8-x86_64/gcc-9.5.0/cuda-11.2.2-ud5pedf473of4in4vhulabsyve3snph4/lib64:/software/spackages/linux-rocky8-x86_64/gcc-9.5.0/libxml2-2.9.13-6my53cs3ezjrffp6uflwnpoo4sq7kon2/lib:/software/spackages/linux-rocky8-x86_64/gcc-9.5.0/anaconda3-2022.05-zyrazrj6uvrtukupqzhaslr63w7hj6in/lib\n",
      "2023-04-21 10:55:01.377152: W tensorflow/stream_executor/platform/default/dso_loader.cc:64] Could not load dynamic library 'libnvinfer_plugin.so.7'; dlerror: libnvinfer_plugin.so.7: cannot open shared object file: No such file or directory; LD_LIBRARY_PATH: /software/spackages/linux-rocky8-x86_64/gcc-9.5.0/cudnn-8.1.0.77-11.2-o55zmcsaca6xrl5uyyaalmxt2nabqytf/lib64:/software/spackages/linux-rocky8-x86_64/gcc-9.5.0/cuda-11.2.2-ud5pedf473of4in4vhulabsyve3snph4/lib64:/software/spackages/linux-rocky8-x86_64/gcc-9.5.0/libxml2-2.9.13-6my53cs3ezjrffp6uflwnpoo4sq7kon2/lib:/software/spackages/linux-rocky8-x86_64/gcc-9.5.0/anaconda3-2022.05-zyrazrj6uvrtukupqzhaslr63w7hj6in/lib\n",
      "2023-04-21 10:55:01.377157: W tensorflow/compiler/tf2tensorrt/utils/py_utils.cc:38] TF-TRT Warning: Cannot dlopen some TensorRT libraries. If you would like to use Nvidia GPU with TensorRT, please make sure the missing libraries mentioned above are installed properly.\n"
     ]
    }
   ],
   "source": [
    "import tensorflow as tf"
   ]
  },
  {
   "cell_type": "code",
   "execution_count": 4,
   "id": "707f0e85",
   "metadata": {
    "tags": []
   },
   "outputs": [
    {
     "data": {
      "text/plain": [
       "['np_X_data.pickle',\n",
       " 'Data preprocessing_palmetto.ipynb',\n",
       " 'Model build.ipynb',\n",
       " '2D data.ipynb',\n",
       " 'Y_feature_rotate.pickle',\n",
       " 'np_X_data_rotate.pickle',\n",
       " 'Y_recognize.pickle',\n",
       " '.ipynb_checkpoints',\n",
       " '3d_facialrecognize.h5',\n",
       " 'Feature loss Model.ipynb',\n",
       " 'Y_feature.pickle',\n",
       " 'Y_recognize_rotate.pickle',\n",
       " 'DataPreprocessing_rotate.ipynb',\n",
       " 'BSE_BET_DATA',\n",
       " '3d_brainLoss.h5',\n",
       " 'new test data preprocess.ipynb']"
      ]
     },
     "execution_count": 4,
     "metadata": {},
     "output_type": "execute_result"
    }
   ],
   "source": [
    "os.listdir(os.getcwd())"
   ]
  },
  {
   "cell_type": "code",
   "execution_count": 5,
   "id": "8b299882",
   "metadata": {
    "tags": []
   },
   "outputs": [],
   "source": [
    "os.chdir(os.getcwd() +'/BSE_BET_DATA')"
   ]
  },
  {
   "cell_type": "code",
   "execution_count": 6,
   "id": "a8fc4db9",
   "metadata": {
    "tags": []
   },
   "outputs": [
    {
     "data": {
      "text/plain": [
       "'/home/cbasire/Data Mining/BSE_BET_DATA'"
      ]
     },
     "execution_count": 6,
     "metadata": {},
     "output_type": "execute_result"
    }
   ],
   "source": [
    "os.getcwd()"
   ]
  },
  {
   "cell_type": "code",
   "execution_count": 7,
   "id": "b3d7822e",
   "metadata": {
    "tags": []
   },
   "outputs": [
    {
     "data": {
      "text/plain": [
       "['labels.csv', 'DMimages', '.ipynb_checkpoints', 'files', 'mri.xlsx']"
      ]
     },
     "execution_count": 7,
     "metadata": {},
     "output_type": "execute_result"
    }
   ],
   "source": [
    "os.listdir(os.getcwd())#+ str('/files')"
   ]
  },
  {
   "cell_type": "code",
   "execution_count": 8,
   "id": "8df70d90",
   "metadata": {
    "tags": []
   },
   "outputs": [],
   "source": [
    "path1 = '/home/cbasire/Data Mining/BSE_BET_DATA/'\n",
    "image_file_paths = glob(path1 + 'DMimages/*.nii')"
   ]
  },
  {
   "cell_type": "code",
   "execution_count": 9,
   "id": "3d326b37-56a5-485b-b6ed-c04b018b22af",
   "metadata": {
    "tags": []
   },
   "outputs": [
    {
     "data": {
      "text/plain": [
       "['/home/cbasire/Data Mining/BSE_BET_DATA/DMimages/IXI060-Guys-0709-MRA.nii',\n",
       " '/home/cbasire/Data Mining/BSE_BET_DATA/DMimages/IXI021-Guys-0703-MRA.nii',\n",
       " '/home/cbasire/Data Mining/BSE_BET_DATA/DMimages/IXI030-Guys-0708-MRA.nii',\n",
       " '/home/cbasire/Data Mining/BSE_BET_DATA/DMimages/IXI036-Guys-0736-MRA.nii',\n",
       " '/home/cbasire/Data Mining/BSE_BET_DATA/DMimages/IXI034-HH-1260-MRA.nii']"
      ]
     },
     "execution_count": 9,
     "metadata": {},
     "output_type": "execute_result"
    }
   ],
   "source": [
    "image_file_paths[:5]"
   ]
  },
  {
   "cell_type": "code",
   "execution_count": 10,
   "id": "ae5e1c8b-fc1d-4fe1-92c0-d59c52d4b2da",
   "metadata": {
    "tags": []
   },
   "outputs": [
    {
     "data": {
      "text/plain": [
       "(512, 512, 100)"
      ]
     },
     "execution_count": 10,
     "metadata": {},
     "output_type": "execute_result"
    }
   ],
   "source": [
    "img = nib.load(image_file_paths[0]).get_fdata()\n",
    "img.shape"
   ]
  },
  {
   "cell_type": "code",
   "execution_count": 11,
   "id": "9fd10852",
   "metadata": {
    "tags": []
   },
   "outputs": [],
   "source": [
    "# Read nifti file\n",
    "def read_nifti_file(filepath):\n",
    "    \"\"\"Read and load volume\"\"\"\n",
    "    # Read file\n",
    "    scan = nib.load(filepath).get_fdata()\n",
    "    return scan\n",
    "\n",
    "\n",
    "# Normalize using min-max normalization\n",
    "def normalize(volume):\n",
    "    \"\"\"Normalize the volume\"\"\"\n",
    "    min = -1000\n",
    "    max = 400\n",
    "    volume[volume < min] = min\n",
    "    volume[volume > max] = max\n",
    "    volume = (volume - min) / (max - min)\n",
    "    return volume.astype(\"float32\")\n",
    "\n",
    "\n",
    "# Resize image to standard size for all of them\n",
    "def resize_volume(img):\n",
    "    depth_factor = 1 / (img.shape[-1] / 64)\n",
    "    width_factor = 1 / (img.shape[0] / 128)\n",
    "    height_factor = 1 / (img.shape[1] / 128)\n",
    "    # Rotate\n",
    "    # img = ndimage.rotate(img, 90, reshape=False)\n",
    "    # Resize across z-axis\n",
    "    img = ndimage.zoom(img, (width_factor, height_factor, depth_factor), order=1)\n",
    "    return img\n",
    "\n",
    "\n",
    "# All 3 functions above put in one\n",
    "def process_scan(path):\n",
    "    \"\"\"Read and resize volume\"\"\"\n",
    "    # Read scan\n",
    "    volume = read_nifti_file(path)\n",
    "    # Normalize\n",
    "    volume = normalize(volume)\n",
    "    # Resize width, height and depth\n",
    "    volume = resize_volume(volume)\n",
    "    return volume"
   ]
  },
  {
   "cell_type": "code",
   "execution_count": 12,
   "id": "501b84eb-e4cf-4dbd-b882-9eee98f9f53e",
   "metadata": {
    "tags": []
   },
   "outputs": [
    {
     "data": {
      "text/html": [
       "<div>\n",
       "<style scoped>\n",
       "    .dataframe tbody tr th:only-of-type {\n",
       "        vertical-align: middle;\n",
       "    }\n",
       "\n",
       "    .dataframe tbody tr th {\n",
       "        vertical-align: top;\n",
       "    }\n",
       "\n",
       "    .dataframe thead th {\n",
       "        text-align: right;\n",
       "    }\n",
       "</style>\n",
       "<table border=\"1\" class=\"dataframe\">\n",
       "  <thead>\n",
       "    <tr style=\"text-align: right;\">\n",
       "      <th></th>\n",
       "      <th>Filename</th>\n",
       "      <th>Recognizable-Facial-Feature</th>\n",
       "      <th>Brain-Feature-Loss</th>\n",
       "    </tr>\n",
       "  </thead>\n",
       "  <tbody>\n",
       "    <tr>\n",
       "      <th>0</th>\n",
       "      <td>IXI002-Guys-0828-MRA.nii.gz</td>\n",
       "      <td>yes</td>\n",
       "      <td>No</td>\n",
       "    </tr>\n",
       "    <tr>\n",
       "      <th>1</th>\n",
       "      <td>IXI012-HH-1211-MRA.nii.gz</td>\n",
       "      <td>yes</td>\n",
       "      <td>No</td>\n",
       "    </tr>\n",
       "    <tr>\n",
       "      <th>2</th>\n",
       "      <td>IXI013-HH-1212-MRA.nii.gz</td>\n",
       "      <td>no</td>\n",
       "      <td>No</td>\n",
       "    </tr>\n",
       "    <tr>\n",
       "      <th>3</th>\n",
       "      <td>IXI015-HH-1258-MRA.nii.gz</td>\n",
       "      <td>yes</td>\n",
       "      <td>No</td>\n",
       "    </tr>\n",
       "    <tr>\n",
       "      <th>4</th>\n",
       "      <td>IXI016-Guys-0697-MRA.nii.gz</td>\n",
       "      <td>yes</td>\n",
       "      <td>No</td>\n",
       "    </tr>\n",
       "  </tbody>\n",
       "</table>\n",
       "</div>"
      ],
      "text/plain": [
       "                      Filename Recognizable-Facial-Feature Brain-Feature-Loss\n",
       "0  IXI002-Guys-0828-MRA.nii.gz                         yes                 No\n",
       "1    IXI012-HH-1211-MRA.nii.gz                         yes                 No\n",
       "2    IXI013-HH-1212-MRA.nii.gz                          no                 No\n",
       "3    IXI015-HH-1258-MRA.nii.gz                         yes                 No\n",
       "4  IXI016-Guys-0697-MRA.nii.gz                         yes                 No"
      ]
     },
     "execution_count": 12,
     "metadata": {},
     "output_type": "execute_result"
    }
   ],
   "source": [
    "data = pd.read_excel(path1+'mri.xlsx')\n",
    "\n",
    "data.head()"
   ]
  },
  {
   "cell_type": "code",
   "execution_count": 13,
   "id": "53eb819b-550e-4145-a758-f7fd488752f6",
   "metadata": {
    "tags": []
   },
   "outputs": [
    {
     "name": "stdout",
     "output_type": "stream",
     "text": [
      "Recognizable-Facial-Feature\n",
      "Yes    61\n",
      "No     59\n",
      "yes     7\n",
      "no      2\n",
      "Name: count, dtype: int64\n",
      "Brain-Feature-Loss\n",
      "No    129\n",
      "Name: count, dtype: int64\n"
     ]
    }
   ],
   "source": [
    "df_recognize = data.iloc[: , :-1]\n",
    "df_brainLoss = data.drop('Recognizable-Facial-Feature', axis=1)\n",
    "\n",
    "print(df_recognize['Recognizable-Facial-Feature'].value_counts())\n",
    "print(df_brainLoss['Brain-Feature-Loss'].value_counts())"
   ]
  },
  {
   "cell_type": "code",
   "execution_count": 14,
   "id": "770f78b2-c652-4504-ac08-cba7a1afeca6",
   "metadata": {
    "tags": []
   },
   "outputs": [
    {
     "name": "stderr",
     "output_type": "stream",
     "text": [
      "/local_scratch/pbs.533450.pbs02/ipykernel_617556/3161790267.py:1: SettingWithCopyWarning: \n",
      "A value is trying to be set on a copy of a slice from a DataFrame.\n",
      "Try using .loc[row_indexer,col_indexer] = value instead\n",
      "\n",
      "See the caveats in the documentation: https://pandas.pydata.org/pandas-docs/stable/user_guide/indexing.html#returning-a-view-versus-a-copy\n",
      "  df_recognize['Recognizable-Facial-Feature'] = df_recognize['Recognizable-Facial-Feature'].replace({'Yes': 1, 'No': 0})\n"
     ]
    }
   ],
   "source": [
    "df_recognize['Recognizable-Facial-Feature'] = df_recognize['Recognizable-Facial-Feature'].replace({'Yes': 1, 'No': 0})\n",
    "\n",
    "df_brainLoss['Brain-Feature-Loss'] = df_brainLoss['Brain-Feature-Loss'].replace({'Yes': 1, 'No': 0})"
   ]
  },
  {
   "cell_type": "code",
   "execution_count": 23,
   "id": "515f4773-93ab-48ed-8792-47c5bf48b874",
   "metadata": {
    "tags": []
   },
   "outputs": [],
   "source": [
    "df_recognize_paths = []\n",
    "for filename in df_recognize['Filename']:\n",
    "    for path in image_file_paths:\n",
    "        # Check if path is a Yes file or a No fi\n",
    "        if path[48:] == filename[:-3]:\n",
    "            df_recognize_paths.append(glob(path))"
   ]
  },
  {
   "cell_type": "code",
   "execution_count": 24,
   "id": "87a6b49c-70ab-45d0-a5cf-1c4db7f11225",
   "metadata": {
    "tags": []
   },
   "outputs": [
    {
     "name": "stderr",
     "output_type": "stream",
     "text": [
      "100%|██████████| 62/62 [00:36<00:00,  1.69it/s]\n"
     ]
    }
   ],
   "source": [
    "np_X_data = np.array([process_scan(path[0]) for path in tqdm(df_recognize_paths)])"
   ]
  },
  {
   "cell_type": "code",
   "execution_count": 25,
   "id": "79a407ac-c495-4a22-877a-329ef0342086",
   "metadata": {},
   "outputs": [],
   "source": [
    "Y_recognize_test = df_recognize.iloc[:,-1].to_numpy()"
   ]
  },
  {
   "cell_type": "code",
   "execution_count": 26,
   "id": "0bb63306-1e26-48b1-8148-757327e1f013",
   "metadata": {
    "tags": []
   },
   "outputs": [],
   "source": [
    "Y_feature_test = df_brainLoss.iloc[:,-1].to_numpy()"
   ]
  },
  {
   "cell_type": "code",
   "execution_count": 43,
   "id": "457cb797-42d3-498d-b304-7010224aced0",
   "metadata": {
    "tags": []
   },
   "outputs": [
    {
     "data": {
      "text/plain": [
       "TensorShape([62, 128, 128, 64, 1])"
      ]
     },
     "execution_count": 43,
     "metadata": {},
     "output_type": "execute_result"
    }
   ],
   "source": [
    "np_X_data.shape"
   ]
  },
  {
   "cell_type": "code",
   "execution_count": 40,
   "id": "6b279313-349b-4145-b22e-85e4f8675ff6",
   "metadata": {
    "tags": []
   },
   "outputs": [],
   "source": [
    "np_X_data = tf.squeeze(np_X_data,axis=3)"
   ]
  },
  {
   "cell_type": "code",
   "execution_count": 42,
   "id": "81d4096c-70f9-4dce-83d1-855a1375908d",
   "metadata": {
    "tags": []
   },
   "outputs": [],
   "source": [
    "np_X_data = tf.expand_dims(np_X_data, axis=4)"
   ]
  },
  {
   "cell_type": "code",
   "execution_count": 44,
   "id": "2355efa8-be72-4e03-96d3-daa3317f2944",
   "metadata": {
    "tags": []
   },
   "outputs": [],
   "source": [
    "with open('new_testdata.pickle', 'wb') as f:\n",
    "    pickle.dump(np_X_data,f)\n",
    "with open('Y_recognize_newtest.pickle', 'wb') as f:\n",
    "    pickle.dump(Y_recognize_test,f)\n",
    "with open('Y_feature_newtest.pickle', 'wb') as f:\n",
    "    pickle.dump(Y_feature_test,f)"
   ]
  },
  {
   "cell_type": "code",
   "execution_count": null,
   "id": "a88c1491-61c3-40c9-9485-153f4702e1ed",
   "metadata": {},
   "outputs": [],
   "source": []
  }
 ],
 "metadata": {
  "kernelspec": {
   "display_name": "Python 3 (ipykernel)",
   "language": "python",
   "name": "python3"
  },
  "language_info": {
   "codemirror_mode": {
    "name": "ipython",
    "version": 3
   },
   "file_extension": ".py",
   "mimetype": "text/x-python",
   "name": "python",
   "nbconvert_exporter": "python",
   "pygments_lexer": "ipython3",
   "version": "3.10.10"
  }
 },
 "nbformat": 4,
 "nbformat_minor": 5
}
