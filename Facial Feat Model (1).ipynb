{
 "cells": [
  {
   "cell_type": "code",
   "execution_count": 3,
   "id": "16d44cef",
   "metadata": {
    "tags": []
   },
   "outputs": [
    {
     "name": "stderr",
     "output_type": "stream",
     "text": [
      "2023-04-21 11:17:14.378599: I tensorflow/core/platform/cpu_feature_guard.cc:193] This TensorFlow binary is optimized with oneAPI Deep Neural Network Library (oneDNN) to use the following CPU instructions in performance-critical operations:  AVX2 AVX512F AVX512_VNNI FMA\n",
      "To enable them in other operations, rebuild TensorFlow with the appropriate compiler flags.\n",
      "2023-04-21 11:17:14.487754: I tensorflow/core/util/util.cc:169] oneDNN custom operations are on. You may see slightly different numerical results due to floating-point round-off errors from different computation orders. To turn them off, set the environment variable `TF_ENABLE_ONEDNN_OPTS=0`.\n",
      "2023-04-21 11:17:14.517299: E tensorflow/stream_executor/cuda/cuda_blas.cc:2981] Unable to register cuBLAS factory: Attempting to register factory for plugin cuBLAS when one has already been registered\n",
      "2023-04-21 11:17:15.473056: W tensorflow/stream_executor/platform/default/dso_loader.cc:64] Could not load dynamic library 'libnvinfer.so.7'; dlerror: libnvinfer.so.7: cannot open shared object file: No such file or directory; LD_LIBRARY_PATH: /software/spackages/linux-rocky8-x86_64/gcc-9.5.0/cudnn-8.1.0.77-11.2-o55zmcsaca6xrl5uyyaalmxt2nabqytf/lib64:/software/spackages/linux-rocky8-x86_64/gcc-9.5.0/cuda-11.2.2-ud5pedf473of4in4vhulabsyve3snph4/lib64:/software/spackages/linux-rocky8-x86_64/gcc-9.5.0/libxml2-2.9.13-6my53cs3ezjrffp6uflwnpoo4sq7kon2/lib:/software/spackages/linux-rocky8-x86_64/gcc-9.5.0/anaconda3-2022.05-zyrazrj6uvrtukupqzhaslr63w7hj6in/lib\n",
      "2023-04-21 11:17:15.473117: W tensorflow/stream_executor/platform/default/dso_loader.cc:64] Could not load dynamic library 'libnvinfer_plugin.so.7'; dlerror: libnvinfer_plugin.so.7: cannot open shared object file: No such file or directory; LD_LIBRARY_PATH: /software/spackages/linux-rocky8-x86_64/gcc-9.5.0/cudnn-8.1.0.77-11.2-o55zmcsaca6xrl5uyyaalmxt2nabqytf/lib64:/software/spackages/linux-rocky8-x86_64/gcc-9.5.0/cuda-11.2.2-ud5pedf473of4in4vhulabsyve3snph4/lib64:/software/spackages/linux-rocky8-x86_64/gcc-9.5.0/libxml2-2.9.13-6my53cs3ezjrffp6uflwnpoo4sq7kon2/lib:/software/spackages/linux-rocky8-x86_64/gcc-9.5.0/anaconda3-2022.05-zyrazrj6uvrtukupqzhaslr63w7hj6in/lib\n",
      "2023-04-21 11:17:15.473121: W tensorflow/compiler/tf2tensorrt/utils/py_utils.cc:38] TF-TRT Warning: Cannot dlopen some TensorRT libraries. If you would like to use Nvidia GPU with TensorRT, please make sure the missing libraries mentioned above are installed properly.\n"
     ]
    }
   ],
   "source": [
    "import os \n",
    "import pickle\n",
    "import numpy as np\n",
    "import pandas as pd\n",
    "import nibabel as nib\n",
    "import tensorflow as tf\n",
    "from scipy import ndimage\n",
    "from tensorflow import keras\n",
    "from tensorflow.keras import layers\n",
    "from sklearn.metrics import confusion_matrix\n",
    "from sklearn.metrics import classification_report"
   ]
  },
  {
   "cell_type": "code",
   "execution_count": null,
   "id": "d2f11239-c17e-41ae-a85c-027dea1231ee",
   "metadata": {},
   "outputs": [],
   "source": []
  },
  {
   "cell_type": "code",
   "execution_count": 4,
   "id": "4b57d042-1e62-4420-a2e8-2f502ad0c843",
   "metadata": {
    "tags": []
   },
   "outputs": [
    {
     "data": {
      "text/plain": [
       "'/home/cbasire/Data Mining'"
      ]
     },
     "execution_count": 4,
     "metadata": {},
     "output_type": "execute_result"
    }
   ],
   "source": [
    "os.getcwd()"
   ]
  },
  {
   "cell_type": "code",
   "execution_count": 5,
   "id": "d6ab0f78",
   "metadata": {
    "tags": []
   },
   "outputs": [],
   "source": [
    "from glob import glob\n",
    "import matplotlib.pyplot as plt\n",
    "import random\n",
    "import time\n",
    "from tqdm import tqdm\n",
    "\n",
    "start_path = '/home/cbasire/Data Mining/BSE_BET_DATA/'\n",
    "image_file_paths = glob(start_path+'files/*')\n",
    "\n"
   ]
  },
  {
   "cell_type": "code",
   "execution_count": 4,
   "id": "d47fa6f5",
   "metadata": {
    "tags": []
   },
   "outputs": [],
   "source": [
    "# Read nifti file\n",
    "def read_nifti_file(filepath):\n",
    "    \"\"\"Read and load volume\"\"\"\n",
    "    # Read file\n",
    "    scan = nib.load(filepath).get_fdata()\n",
    "    return scan\n",
    "\n",
    "\n",
    "# Normalize using min-max normalization\n",
    "def normalize(volume):\n",
    "    \"\"\"Normalize the volume\"\"\"\n",
    "    min = -1000\n",
    "    max = 400\n",
    "    volume[volume < min] = min\n",
    "    volume[volume > max] = max\n",
    "    volume = (volume - min) / (max - min)\n",
    "    return volume.astype(\"float32\")\n",
    "\n",
    "\n",
    "# Resize image to standard size for all of them\n",
    "def resize_volume(img):\n",
    "    depth_factor = 1 / (img.shape[-1] / 64)\n",
    "    width_factor = 1 / (img.shape[0] / 128)\n",
    "    height_factor = 1 / (img.shape[1] / 128)\n",
    "    # Rotate\n",
    "    # img = ndimage.rotate(img, 90, reshape=False)\n",
    "    # Resize across z-axis\n",
    "    img = ndimage.zoom(img, (width_factor, height_factor, depth_factor), order=1)\n",
    "    return img\n",
    "\n",
    "\n",
    "# All 3 functions above put in one\n",
    "def process_scan(path):\n",
    "    \"\"\"Read and resize volume\"\"\"\n",
    "    # Read scan\n",
    "    volume = read_nifti_file(path)\n",
    "    # Normalize\n",
    "    volume = normalize(volume)\n",
    "    # Resize width, height and depth\n",
    "    volume = resize_volume(volume)\n",
    "    return volume"
   ]
  },
  {
   "cell_type": "code",
   "execution_count": 5,
   "id": "50f43188",
   "metadata": {
    "tags": []
   },
   "outputs": [
    {
     "data": {
      "text/html": [
       "<div>\n",
       "<style scoped>\n",
       "    .dataframe tbody tr th:only-of-type {\n",
       "        vertical-align: middle;\n",
       "    }\n",
       "\n",
       "    .dataframe tbody tr th {\n",
       "        vertical-align: top;\n",
       "    }\n",
       "\n",
       "    .dataframe thead th {\n",
       "        text-align: right;\n",
       "    }\n",
       "</style>\n",
       "<table border=\"1\" class=\"dataframe\">\n",
       "  <thead>\n",
       "    <tr style=\"text-align: right;\">\n",
       "      <th></th>\n",
       "      <th>Filename</th>\n",
       "      <th>Recognizable-Facial-Feature</th>\n",
       "      <th>Brain-Feature-Loss</th>\n",
       "    </tr>\n",
       "  </thead>\n",
       "  <tbody>\n",
       "    <tr>\n",
       "      <th>0</th>\n",
       "      <td>IXI369-Guys-0924-T1_bet_03.nii</td>\n",
       "      <td>Yes</td>\n",
       "      <td>No</td>\n",
       "    </tr>\n",
       "    <tr>\n",
       "      <th>1</th>\n",
       "      <td>IXI448-HH-2393-T1_bet_07.nii</td>\n",
       "      <td>Yes</td>\n",
       "      <td>No</td>\n",
       "    </tr>\n",
       "    <tr>\n",
       "      <th>2</th>\n",
       "      <td>IXI252-HH-1693-T1_bet_08.nii</td>\n",
       "      <td>Yes</td>\n",
       "      <td>No</td>\n",
       "    </tr>\n",
       "    <tr>\n",
       "      <th>3</th>\n",
       "      <td>IXI188-Guys-0798-T1_bet_17.nii</td>\n",
       "      <td>Yes</td>\n",
       "      <td>No</td>\n",
       "    </tr>\n",
       "    <tr>\n",
       "      <th>4</th>\n",
       "      <td>IXI182-Guys-0792-T1_bet_17.nii</td>\n",
       "      <td>Yes</td>\n",
       "      <td>No</td>\n",
       "    </tr>\n",
       "  </tbody>\n",
       "</table>\n",
       "</div>"
      ],
      "text/plain": [
       "                         Filename Recognizable-Facial-Feature   \n",
       "0  IXI369-Guys-0924-T1_bet_03.nii                         Yes  \\\n",
       "1    IXI448-HH-2393-T1_bet_07.nii                         Yes   \n",
       "2    IXI252-HH-1693-T1_bet_08.nii                         Yes   \n",
       "3  IXI188-Guys-0798-T1_bet_17.nii                         Yes   \n",
       "4  IXI182-Guys-0792-T1_bet_17.nii                         Yes   \n",
       "\n",
       "  Brain-Feature-Loss  \n",
       "0                 No  \n",
       "1                 No  \n",
       "2                 No  \n",
       "3                 No  \n",
       "4                 No  "
      ]
     },
     "execution_count": 5,
     "metadata": {},
     "output_type": "execute_result"
    }
   ],
   "source": [
    "data = pd.read_csv(start_path+'labels.csv')\n",
    "\n",
    "data.head()"
   ]
  },
  {
   "cell_type": "code",
   "execution_count": 6,
   "id": "e5cc18e4",
   "metadata": {
    "tags": []
   },
   "outputs": [
    {
     "name": "stdout",
     "output_type": "stream",
     "text": [
      "Recognizable-Facial-Feature\n",
      "No     1347\n",
      "Yes     713\n",
      "Name: count, dtype: int64\n",
      "Brain-Feature-Loss\n",
      "Yes    1332\n",
      "No      728\n",
      "Name: count, dtype: int64\n"
     ]
    }
   ],
   "source": [
    "# Split data into two sets, one for each output variable\n",
    "df_recognize = data.iloc[: , :-1]\n",
    "df_brainLoss = data.drop('Recognizable-Facial-Feature', axis=1)\n",
    "\n",
    "print(df_recognize['Recognizable-Facial-Feature'].value_counts())\n",
    "print(df_brainLoss['Brain-Feature-Loss'].value_counts())"
   ]
  },
  {
   "cell_type": "code",
   "execution_count": 7,
   "id": "c6f83d14",
   "metadata": {
    "tags": []
   },
   "outputs": [
    {
     "data": {
      "text/html": [
       "<div>\n",
       "<style scoped>\n",
       "    .dataframe tbody tr th:only-of-type {\n",
       "        vertical-align: middle;\n",
       "    }\n",
       "\n",
       "    .dataframe tbody tr th {\n",
       "        vertical-align: top;\n",
       "    }\n",
       "\n",
       "    .dataframe thead th {\n",
       "        text-align: right;\n",
       "    }\n",
       "</style>\n",
       "<table border=\"1\" class=\"dataframe\">\n",
       "  <thead>\n",
       "    <tr style=\"text-align: right;\">\n",
       "      <th></th>\n",
       "      <th>Filename</th>\n",
       "      <th>Recognizable-Facial-Feature</th>\n",
       "    </tr>\n",
       "  </thead>\n",
       "  <tbody>\n",
       "    <tr>\n",
       "      <th>0</th>\n",
       "      <td>IXI369-Guys-0924-T1_bet_03.nii</td>\n",
       "      <td>Yes</td>\n",
       "    </tr>\n",
       "    <tr>\n",
       "      <th>1</th>\n",
       "      <td>IXI448-HH-2393-T1_bet_07.nii</td>\n",
       "      <td>Yes</td>\n",
       "    </tr>\n",
       "    <tr>\n",
       "      <th>2</th>\n",
       "      <td>IXI252-HH-1693-T1_bet_08.nii</td>\n",
       "      <td>Yes</td>\n",
       "    </tr>\n",
       "    <tr>\n",
       "      <th>3</th>\n",
       "      <td>IXI188-Guys-0798-T1_bet_17.nii</td>\n",
       "      <td>Yes</td>\n",
       "    </tr>\n",
       "    <tr>\n",
       "      <th>4</th>\n",
       "      <td>IXI182-Guys-0792-T1_bet_17.nii</td>\n",
       "      <td>Yes</td>\n",
       "    </tr>\n",
       "  </tbody>\n",
       "</table>\n",
       "</div>"
      ],
      "text/plain": [
       "                         Filename Recognizable-Facial-Feature\n",
       "0  IXI369-Guys-0924-T1_bet_03.nii                         Yes\n",
       "1    IXI448-HH-2393-T1_bet_07.nii                         Yes\n",
       "2    IXI252-HH-1693-T1_bet_08.nii                         Yes\n",
       "3  IXI188-Guys-0798-T1_bet_17.nii                         Yes\n",
       "4  IXI182-Guys-0792-T1_bet_17.nii                         Yes"
      ]
     },
     "execution_count": 7,
     "metadata": {},
     "output_type": "execute_result"
    }
   ],
   "source": [
    "df_recognize.head()"
   ]
  },
  {
   "cell_type": "code",
   "execution_count": 8,
   "id": "632aed14",
   "metadata": {
    "tags": []
   },
   "outputs": [
    {
     "data": {
      "text/html": [
       "<div>\n",
       "<style scoped>\n",
       "    .dataframe tbody tr th:only-of-type {\n",
       "        vertical-align: middle;\n",
       "    }\n",
       "\n",
       "    .dataframe tbody tr th {\n",
       "        vertical-align: top;\n",
       "    }\n",
       "\n",
       "    .dataframe thead th {\n",
       "        text-align: right;\n",
       "    }\n",
       "</style>\n",
       "<table border=\"1\" class=\"dataframe\">\n",
       "  <thead>\n",
       "    <tr style=\"text-align: right;\">\n",
       "      <th></th>\n",
       "      <th>Filename</th>\n",
       "      <th>Brain-Feature-Loss</th>\n",
       "    </tr>\n",
       "  </thead>\n",
       "  <tbody>\n",
       "    <tr>\n",
       "      <th>0</th>\n",
       "      <td>IXI369-Guys-0924-T1_bet_03.nii</td>\n",
       "      <td>No</td>\n",
       "    </tr>\n",
       "    <tr>\n",
       "      <th>1</th>\n",
       "      <td>IXI448-HH-2393-T1_bet_07.nii</td>\n",
       "      <td>No</td>\n",
       "    </tr>\n",
       "    <tr>\n",
       "      <th>2</th>\n",
       "      <td>IXI252-HH-1693-T1_bet_08.nii</td>\n",
       "      <td>No</td>\n",
       "    </tr>\n",
       "    <tr>\n",
       "      <th>3</th>\n",
       "      <td>IXI188-Guys-0798-T1_bet_17.nii</td>\n",
       "      <td>No</td>\n",
       "    </tr>\n",
       "    <tr>\n",
       "      <th>4</th>\n",
       "      <td>IXI182-Guys-0792-T1_bet_17.nii</td>\n",
       "      <td>No</td>\n",
       "    </tr>\n",
       "  </tbody>\n",
       "</table>\n",
       "</div>"
      ],
      "text/plain": [
       "                         Filename Brain-Feature-Loss\n",
       "0  IXI369-Guys-0924-T1_bet_03.nii                 No\n",
       "1    IXI448-HH-2393-T1_bet_07.nii                 No\n",
       "2    IXI252-HH-1693-T1_bet_08.nii                 No\n",
       "3  IXI188-Guys-0798-T1_bet_17.nii                 No\n",
       "4  IXI182-Guys-0792-T1_bet_17.nii                 No"
      ]
     },
     "execution_count": 8,
     "metadata": {},
     "output_type": "execute_result"
    }
   ],
   "source": [
    "df_brainLoss.head()"
   ]
  },
  {
   "cell_type": "code",
   "execution_count": 9,
   "id": "866d15bb",
   "metadata": {
    "tags": []
   },
   "outputs": [
    {
     "name": "stderr",
     "output_type": "stream",
     "text": [
      "/local_scratch/pbs.495250.pbs02/ipykernel_846478/3476586761.py:1: SettingWithCopyWarning: \n",
      "A value is trying to be set on a copy of a slice from a DataFrame.\n",
      "Try using .loc[row_indexer,col_indexer] = value instead\n",
      "\n",
      "See the caveats in the documentation: https://pandas.pydata.org/pandas-docs/stable/user_guide/indexing.html#returning-a-view-versus-a-copy\n",
      "  df_recognize['Recognizable-Facial-Feature'] = df_recognize['Recognizable-Facial-Feature'].replace({'Yes': 1, 'No': 0})\n"
     ]
    }
   ],
   "source": [
    "df_recognize['Recognizable-Facial-Feature'] = df_recognize['Recognizable-Facial-Feature'].replace({'Yes': 1, 'No': 0})\n",
    "\n",
    "df_brainLoss['Brain-Feature-Loss'] = df_brainLoss['Brain-Feature-Loss'].replace({'Yes': 1, 'No': 0})\n"
   ]
  },
  {
   "cell_type": "code",
   "execution_count": 10,
   "id": "a93b31e4",
   "metadata": {
    "tags": []
   },
   "outputs": [
    {
     "data": {
      "text/html": [
       "<div>\n",
       "<style scoped>\n",
       "    .dataframe tbody tr th:only-of-type {\n",
       "        vertical-align: middle;\n",
       "    }\n",
       "\n",
       "    .dataframe tbody tr th {\n",
       "        vertical-align: top;\n",
       "    }\n",
       "\n",
       "    .dataframe thead th {\n",
       "        text-align: right;\n",
       "    }\n",
       "</style>\n",
       "<table border=\"1\" class=\"dataframe\">\n",
       "  <thead>\n",
       "    <tr style=\"text-align: right;\">\n",
       "      <th></th>\n",
       "      <th>Filename</th>\n",
       "      <th>Recognizable-Facial-Feature</th>\n",
       "    </tr>\n",
       "  </thead>\n",
       "  <tbody>\n",
       "    <tr>\n",
       "      <th>0</th>\n",
       "      <td>IXI369-Guys-0924-T1_bet_03.nii</td>\n",
       "      <td>1</td>\n",
       "    </tr>\n",
       "    <tr>\n",
       "      <th>1</th>\n",
       "      <td>IXI448-HH-2393-T1_bet_07.nii</td>\n",
       "      <td>1</td>\n",
       "    </tr>\n",
       "    <tr>\n",
       "      <th>2</th>\n",
       "      <td>IXI252-HH-1693-T1_bet_08.nii</td>\n",
       "      <td>1</td>\n",
       "    </tr>\n",
       "    <tr>\n",
       "      <th>3</th>\n",
       "      <td>IXI188-Guys-0798-T1_bet_17.nii</td>\n",
       "      <td>1</td>\n",
       "    </tr>\n",
       "    <tr>\n",
       "      <th>4</th>\n",
       "      <td>IXI182-Guys-0792-T1_bet_17.nii</td>\n",
       "      <td>1</td>\n",
       "    </tr>\n",
       "  </tbody>\n",
       "</table>\n",
       "</div>"
      ],
      "text/plain": [
       "                         Filename  Recognizable-Facial-Feature\n",
       "0  IXI369-Guys-0924-T1_bet_03.nii                            1\n",
       "1    IXI448-HH-2393-T1_bet_07.nii                            1\n",
       "2    IXI252-HH-1693-T1_bet_08.nii                            1\n",
       "3  IXI188-Guys-0798-T1_bet_17.nii                            1\n",
       "4  IXI182-Guys-0792-T1_bet_17.nii                            1"
      ]
     },
     "execution_count": 10,
     "metadata": {},
     "output_type": "execute_result"
    }
   ],
   "source": [
    "df_recognize.head()"
   ]
  },
  {
   "cell_type": "code",
   "execution_count": 11,
   "id": "a089692c",
   "metadata": {
    "tags": []
   },
   "outputs": [
    {
     "data": {
      "text/html": [
       "<div>\n",
       "<style scoped>\n",
       "    .dataframe tbody tr th:only-of-type {\n",
       "        vertical-align: middle;\n",
       "    }\n",
       "\n",
       "    .dataframe tbody tr th {\n",
       "        vertical-align: top;\n",
       "    }\n",
       "\n",
       "    .dataframe thead th {\n",
       "        text-align: right;\n",
       "    }\n",
       "</style>\n",
       "<table border=\"1\" class=\"dataframe\">\n",
       "  <thead>\n",
       "    <tr style=\"text-align: right;\">\n",
       "      <th></th>\n",
       "      <th>Filename</th>\n",
       "      <th>Brain-Feature-Loss</th>\n",
       "    </tr>\n",
       "  </thead>\n",
       "  <tbody>\n",
       "    <tr>\n",
       "      <th>0</th>\n",
       "      <td>IXI369-Guys-0924-T1_bet_03.nii</td>\n",
       "      <td>0</td>\n",
       "    </tr>\n",
       "    <tr>\n",
       "      <th>1</th>\n",
       "      <td>IXI448-HH-2393-T1_bet_07.nii</td>\n",
       "      <td>0</td>\n",
       "    </tr>\n",
       "    <tr>\n",
       "      <th>2</th>\n",
       "      <td>IXI252-HH-1693-T1_bet_08.nii</td>\n",
       "      <td>0</td>\n",
       "    </tr>\n",
       "    <tr>\n",
       "      <th>3</th>\n",
       "      <td>IXI188-Guys-0798-T1_bet_17.nii</td>\n",
       "      <td>0</td>\n",
       "    </tr>\n",
       "    <tr>\n",
       "      <th>4</th>\n",
       "      <td>IXI182-Guys-0792-T1_bet_17.nii</td>\n",
       "      <td>0</td>\n",
       "    </tr>\n",
       "  </tbody>\n",
       "</table>\n",
       "</div>"
      ],
      "text/plain": [
       "                         Filename  Brain-Feature-Loss\n",
       "0  IXI369-Guys-0924-T1_bet_03.nii                   0\n",
       "1    IXI448-HH-2393-T1_bet_07.nii                   0\n",
       "2    IXI252-HH-1693-T1_bet_08.nii                   0\n",
       "3  IXI188-Guys-0798-T1_bet_17.nii                   0\n",
       "4  IXI182-Guys-0792-T1_bet_17.nii                   0"
      ]
     },
     "execution_count": 11,
     "metadata": {},
     "output_type": "execute_result"
    }
   ],
   "source": [
    "df_brainLoss.head()"
   ]
  },
  {
   "cell_type": "code",
   "execution_count": 12,
   "id": "caff6220",
   "metadata": {
    "tags": []
   },
   "outputs": [
    {
     "data": {
      "text/plain": [
       "45"
      ]
     },
     "execution_count": 12,
     "metadata": {},
     "output_type": "execute_result"
    }
   ],
   "source": [
    "image_file_paths[0].index('IXI')"
   ]
  },
  {
   "cell_type": "markdown",
   "id": "c5a7bc95",
   "metadata": {
    "tags": []
   },
   "source": [
    "### arranging list of paths as in the order of labels"
   ]
  },
  {
   "cell_type": "code",
   "execution_count": 13,
   "id": "a1882d08",
   "metadata": {
    "tags": []
   },
   "outputs": [],
   "source": [
    "df_recognize_paths = []\n",
    "for filename in df_recognize['Filename']:\n",
    "    for path in image_file_paths:\n",
    "        # Check if path is a Yes file or a No fi\n",
    "        if path[45:-3:] == filename:\n",
    "            df_recognize_paths.append(glob(path))"
   ]
  },
  {
   "cell_type": "code",
   "execution_count": 14,
   "id": "edc406af-1a2a-47de-afb2-97ca7c6d11ad",
   "metadata": {
    "tags": []
   },
   "outputs": [
    {
     "data": {
      "text/plain": [
       "[['/home/cbasire/Data Mining/BSE_BET_DATA/files/IXI369-Guys-0924-T1_bet_03.nii.gz'],\n",
       " ['/home/cbasire/Data Mining/BSE_BET_DATA/files/IXI448-HH-2393-T1_bet_07.nii.gz'],\n",
       " ['/home/cbasire/Data Mining/BSE_BET_DATA/files/IXI252-HH-1693-T1_bet_08.nii.gz'],\n",
       " ['/home/cbasire/Data Mining/BSE_BET_DATA/files/IXI188-Guys-0798-T1_bet_17.nii.gz'],\n",
       " ['/home/cbasire/Data Mining/BSE_BET_DATA/files/IXI182-Guys-0792-T1_bet_17.nii.gz']]"
      ]
     },
     "execution_count": 14,
     "metadata": {},
     "output_type": "execute_result"
    }
   ],
   "source": [
    "df_recognize_paths[:5]"
   ]
  },
  {
   "cell_type": "code",
   "execution_count": 15,
   "id": "fca53a7f-ecf9-4749-86b3-d5e7fc69beaa",
   "metadata": {
    "tags": []
   },
   "outputs": [
    {
     "data": {
      "text/plain": [
       "0    IXI369-Guys-0924-T1_bet_03.nii\n",
       "1      IXI448-HH-2393-T1_bet_07.nii\n",
       "2      IXI252-HH-1693-T1_bet_08.nii\n",
       "3    IXI188-Guys-0798-T1_bet_17.nii\n",
       "4    IXI182-Guys-0792-T1_bet_17.nii\n",
       "Name: Filename, dtype: object"
      ]
     },
     "execution_count": 15,
     "metadata": {},
     "output_type": "execute_result"
    }
   ],
   "source": [
    "df_recognize['Filename'][:5]"
   ]
  },
  {
   "cell_type": "code",
   "execution_count": 16,
   "id": "38ac89ee",
   "metadata": {
    "tags": []
   },
   "outputs": [
    {
     "name": "stderr",
     "output_type": "stream",
     "text": [
      "100%|██████████| 2060/2060 [08:54<00:00,  3.85it/s]\n"
     ]
    }
   ],
   "source": [
    "np_X_data = np.array([process_scan(path[0]) for path in tqdm(df_recognize_paths)]) # processing each file\n"
   ]
  },
  {
   "cell_type": "code",
   "execution_count": 17,
   "id": "32856310-0586-4dcf-b18f-4f7cae9dfd66",
   "metadata": {
    "tags": []
   },
   "outputs": [
    {
     "data": {
      "text/plain": [
       "[PhysicalDevice(name='/physical_device:GPU:0', device_type='GPU'),\n",
       " PhysicalDevice(name='/physical_device:GPU:1', device_type='GPU')]"
      ]
     },
     "execution_count": 17,
     "metadata": {},
     "output_type": "execute_result"
    }
   ],
   "source": [
    "tf.config.list_physical_devices('GPU')"
   ]
  },
  {
   "cell_type": "code",
   "execution_count": 18,
   "id": "2094a499",
   "metadata": {
    "tags": []
   },
   "outputs": [],
   "source": [
    "Y_recognize = df_recognize.iloc[:,-1].to_numpy()"
   ]
  },
  {
   "cell_type": "code",
   "execution_count": 19,
   "id": "5712bd66",
   "metadata": {
    "tags": []
   },
   "outputs": [],
   "source": [
    "Y_feature = df_brainLoss.iloc[:,-1].to_numpy()"
   ]
  },
  {
   "cell_type": "code",
   "execution_count": 20,
   "id": "632f3ea3-398a-449d-ad85-fe1791e540ff",
   "metadata": {},
   "outputs": [],
   "source": [
    "with open('np_X_data.pickle', 'wb') as f:\n",
    "    pickle.dump(np_X_data, f)\n",
    "with open('Y_recognize.pickle', 'wb') as f:\n",
    "    pickle.dump(Y_recognize, f)\n",
    "with open('Y_feature.pickle', 'wb') as f:\n",
    "    pickle.dump(Y_feature, f)"
   ]
  },
  {
   "cell_type": "markdown",
   "id": "d025b9cf",
   "metadata": {},
   "source": [
    "## data pre process completed"
   ]
  },
  {
   "cell_type": "code",
   "execution_count": 21,
   "id": "cb516aa9-e40e-4106-a1f2-76620551a59f",
   "metadata": {
    "tags": []
   },
   "outputs": [],
   "source": [
    "with open('np_X_data.pickle', 'rb') as f:\n",
    "    np_X_data = pickle.load(f)\n",
    "with open('Y_recognize.pickle', 'rb') as f:\n",
    "    Y_recognize = pickle.load(f)\n",
    "with open('Y_feature.pickle', 'rb') as f:\n",
    "    Y_feature = pickle.load(f)"
   ]
  },
  {
   "cell_type": "code",
   "execution_count": 22,
   "id": "4ed7e195-803f-4713-9f36-18590a9fcadf",
   "metadata": {
    "tags": []
   },
   "outputs": [],
   "source": [
    "with open('np_X_data_rotate.pickle', 'rb') as f:\n",
    "    np_X_data_rotate = pickle.load(f)\n",
    "with open('Y_recognize_rotate.pickle', 'rb') as f:\n",
    "    Y_recognize_rotate = pickle.load(f)\n",
    "with open('Y_feature_rotate.pickle', 'rb') as f:\n",
    "    Y_feature_rotate = pickle.load(f)"
   ]
  },
  {
   "cell_type": "code",
   "execution_count": 23,
   "id": "be0923a0-e5bc-4653-8fb9-3546abdfecd1",
   "metadata": {
    "tags": []
   },
   "outputs": [],
   "source": [
    "np_X_data_train = np.concatenate((np_X_data,np_X_data_rotate),axis = 0)"
   ]
  },
  {
   "cell_type": "code",
   "execution_count": 24,
   "id": "971f2ef4-fee7-49bd-9f44-6742eaf2fec4",
   "metadata": {},
   "outputs": [
    {
     "data": {
      "text/plain": [
       "(4120, 128, 128, 64)"
      ]
     },
     "execution_count": 24,
     "metadata": {},
     "output_type": "execute_result"
    }
   ],
   "source": [
    "np_X_data_train.shape"
   ]
  },
  {
   "cell_type": "code",
   "execution_count": 25,
   "id": "44d2213d-6e64-4f0a-9583-9d8a4b27065b",
   "metadata": {},
   "outputs": [],
   "source": [
    "Y_recognize_train = np.concatenate((Y_recognize,Y_recognize_rotate),axis = 0)"
   ]
  },
  {
   "cell_type": "code",
   "execution_count": 8,
   "id": "24c34416",
   "metadata": {
    "tags": []
   },
   "outputs": [],
   "source": [
    "from sklearn.model_selection import train_test_split\n",
    "X_train,X_test,Y_train,Y_test = train_test_split(np_X_data_train,Y_recognize_train,test_size=0.3,random_state = 42)"
   ]
  },
  {
   "cell_type": "code",
   "execution_count": 27,
   "id": "6d79788b-d930-4a3a-a737-6e77d07a285f",
   "metadata": {},
   "outputs": [
    {
     "name": "stdout",
     "output_type": "stream",
     "text": [
      "Sun Apr 16 15:13:30 2023       \n",
      "+-----------------------------------------------------------------------------+\n",
      "| NVIDIA-SMI 515.48.07    Driver Version: 515.48.07    CUDA Version: 11.7     |\n",
      "|-------------------------------+----------------------+----------------------+\n",
      "| GPU  Name        Persistence-M| Bus-Id        Disp.A | Volatile Uncorr. ECC |\n",
      "| Fan  Temp  Perf  Pwr:Usage/Cap|         Memory-Usage | GPU-Util  Compute M. |\n",
      "|                               |                      |               MIG M. |\n",
      "|===============================+======================+======================|\n",
      "|   0  NVIDIA A100 80G...  Off  | 00000000:17:00.0 Off |                    0 |\n",
      "| N/A   23C    P0    41W / 300W |    129MiB / 81920MiB |      0%      Default |\n",
      "|                               |                      |             Disabled |\n",
      "+-------------------------------+----------------------+----------------------+\n",
      "|   1  NVIDIA A100 80G...  Off  | 00000000:CA:00.0 Off |                    0 |\n",
      "| N/A   21C    P0    40W / 300W |     48MiB / 81920MiB |      0%      Default |\n",
      "|                               |                      |             Disabled |\n",
      "+-------------------------------+----------------------+----------------------+\n",
      "                                                                               \n",
      "+-----------------------------------------------------------------------------+\n",
      "| Processes:                                                                  |\n",
      "|  GPU   GI   CI        PID   Type   Process name                  GPU Memory |\n",
      "|        ID   ID                                                   Usage      |\n",
      "|=============================================================================|\n",
      "|    0   N/A  N/A      5570      G   /usr/libexec/Xorg                  22MiB |\n",
      "|    0   N/A  N/A      6326      G   /usr/libexec/Xorg                  63MiB |\n",
      "|    0   N/A  N/A      6411      G   /usr/bin/gnome-shell               39MiB |\n",
      "|    1   N/A  N/A      5570      G   /usr/libexec/Xorg                  22MiB |\n",
      "|    1   N/A  N/A      6326      G   /usr/libexec/Xorg                  22MiB |\n",
      "+-----------------------------------------------------------------------------+\n"
     ]
    }
   ],
   "source": [
    "!nvidia-smi"
   ]
  },
  {
   "cell_type": "code",
   "execution_count": 28,
   "id": "9418473d",
   "metadata": {
    "tags": []
   },
   "outputs": [
    {
     "data": {
      "text/plain": [
       "(2884, 128, 128, 64)"
      ]
     },
     "execution_count": 28,
     "metadata": {},
     "output_type": "execute_result"
    }
   ],
   "source": [
    "X_train.shape"
   ]
  },
  {
   "cell_type": "code",
   "execution_count": 29,
   "id": "dc1bdf50",
   "metadata": {
    "tags": []
   },
   "outputs": [
    {
     "data": {
      "text/plain": [
       "(1236, 128, 128, 64)"
      ]
     },
     "execution_count": 29,
     "metadata": {},
     "output_type": "execute_result"
    }
   ],
   "source": [
    "X_test.shape"
   ]
  },
  {
   "cell_type": "markdown",
   "id": "24a3e949",
   "metadata": {},
   "source": [
    "### Model generation for Recognizable facial feature loss"
   ]
  },
  {
   "cell_type": "code",
   "execution_count": 30,
   "id": "b3218199",
   "metadata": {
    "tags": []
   },
   "outputs": [],
   "source": [
    "def rotate(volume):\n",
    "    \"\"\"Rotate the volume by a few degrees\"\"\"\n",
    "\n",
    "    def scipy_rotate(volume):\n",
    "        # define some rotation angles\n",
    "        angles = [-20, 20]\n",
    "        # pick angles at random\n",
    "        angle = random.choice(angles)\n",
    "        # rotate volume\n",
    "        volume = ndimage.rotate(volume, angle, reshape=False)\n",
    "        volume[volume < 0] = 0\n",
    "        volume[volume > 1] = 1\n",
    "        return volume\n",
    "\n",
    "    augmented_volume = tf.numpy_function(scipy_rotate, [volume], tf.float32)\n",
    "    return augmented_volume\n",
    "\n",
    "\n",
    "def train_preprocessing(volume, label):\n",
    "    \"\"\"Process training data by rotating and adding a channel.\"\"\"\n",
    "    # Rotate volume\n",
    "    volume = rotate(volume)\n",
    "    volume = tf.expand_dims(volume, axis=3)\n",
    "    return volume, label\n",
    "\n",
    "\n",
    "def test_preprocessing(volume, label):\n",
    "    \"\"\"Process validation data by only adding a channel.\"\"\"\n",
    "    volume = tf.expand_dims(volume, axis=3)\n",
    "    return volume, label"
   ]
  },
  {
   "cell_type": "code",
   "execution_count": 31,
   "id": "d65a4152",
   "metadata": {
    "tags": []
   },
   "outputs": [
    {
     "name": "stderr",
     "output_type": "stream",
     "text": [
      "2023-04-16 15:13:31.076123: I tensorflow/core/platform/cpu_feature_guard.cc:193] This TensorFlow binary is optimized with oneAPI Deep Neural Network Library (oneDNN) to use the following CPU instructions in performance-critical operations:  AVX2 AVX512F AVX512_VNNI FMA\n",
      "To enable them in other operations, rebuild TensorFlow with the appropriate compiler flags.\n",
      "2023-04-16 15:13:32.114364: I tensorflow/core/common_runtime/gpu/gpu_device.cc:1616] Created device /job:localhost/replica:0/task:0/device:GPU:0 with 78847 MB memory:  -> device: 0, name: NVIDIA A100 80GB PCIe, pci bus id: 0000:17:00.0, compute capability: 8.0\n",
      "2023-04-16 15:13:32.116681: I tensorflow/core/common_runtime/gpu/gpu_device.cc:1616] Created device /job:localhost/replica:0/task:0/device:GPU:1 with 78928 MB memory:  -> device: 1, name: NVIDIA A100 80GB PCIe, pci bus id: 0000:ca:00.0, compute capability: 8.0\n"
     ]
    }
   ],
   "source": [
    "# brainLoss dataloaders (manage memory usage)\n",
    "train_loader_brainLoss = tf.data.Dataset.from_tensor_slices((X_train, Y_train))\n",
    "test_loader_brainLoss = tf.data.Dataset.from_tensor_slices((X_test, Y_test))"
   ]
  },
  {
   "cell_type": "code",
   "execution_count": 32,
   "id": "fe36863a",
   "metadata": {
    "tags": []
   },
   "outputs": [],
   "source": [
    "batch_size = 35\n",
    "\n",
    "# Augment the on the fly during training.\n",
    "train_dataset_brainLoss = (\n",
    "    train_loader_brainLoss.shuffle(len(X_train))\n",
    "    .map(train_preprocessing)\n",
    "    .batch(batch_size)\n",
    "    .prefetch(2)\n",
    ")\n",
    "# Only rescale.\n",
    "test_dataset_brainLoss = (\n",
    "    test_loader_brainLoss.shuffle(len(X_test))\n",
    "    .map(test_preprocessing)\n",
    "    .batch(batch_size)\n",
    "    .prefetch(2)\n",
    ")"
   ]
  },
  {
   "cell_type": "code",
   "execution_count": 33,
   "id": "1253a88f",
   "metadata": {
    "tags": []
   },
   "outputs": [
    {
     "name": "stdout",
     "output_type": "stream",
     "text": [
      "Model: \"3dcnnfacial\"\n",
      "_________________________________________________________________\n",
      " Layer (type)                Output Shape              Param #   \n",
      "=================================================================\n",
      " input_1 (InputLayer)        [(None, 128, 128, 64, 1)  0         \n",
      "                             ]                                   \n",
      "                                                                 \n",
      " conv3d (Conv3D)             (None, 126, 126, 62, 8)   224       \n",
      "                                                                 \n",
      " max_pooling3d (MaxPooling3D  (None, 63, 63, 31, 8)    0         \n",
      " )                                                               \n",
      "                                                                 \n",
      " batch_normalization (BatchN  (None, 63, 63, 31, 8)    32        \n",
      " ormalization)                                                   \n",
      "                                                                 \n",
      " conv3d_1 (Conv3D)           (None, 61, 61, 29, 16)    3472      \n",
      "                                                                 \n",
      " max_pooling3d_1 (MaxPooling  (None, 30, 30, 14, 16)   0         \n",
      " 3D)                                                             \n",
      "                                                                 \n",
      " batch_normalization_1 (Batc  (None, 30, 30, 14, 16)   64        \n",
      " hNormalization)                                                 \n",
      "                                                                 \n",
      " conv3d_2 (Conv3D)           (None, 28, 28, 12, 32)    13856     \n",
      "                                                                 \n",
      " max_pooling3d_2 (MaxPooling  (None, 14, 14, 6, 32)    0         \n",
      " 3D)                                                             \n",
      "                                                                 \n",
      " batch_normalization_2 (Batc  (None, 14, 14, 6, 32)    128       \n",
      " hNormalization)                                                 \n",
      "                                                                 \n",
      " global_average_pooling3d (G  (None, 32)               0         \n",
      " lobalAveragePooling3D)                                          \n",
      "                                                                 \n",
      " dense (Dense)               (None, 64)                2112      \n",
      "                                                                 \n",
      " dropout (Dropout)           (None, 64)                0         \n",
      "                                                                 \n",
      " dense_1 (Dense)             (None, 1)                 65        \n",
      "                                                                 \n",
      "=================================================================\n",
      "Total params: 19,953\n",
      "Trainable params: 19,841\n",
      "Non-trainable params: 112\n",
      "_________________________________________________________________\n"
     ]
    }
   ],
   "source": [
    "def get_model(width=128, height=128, depth=64):\n",
    "    \"\"\"Build a 3D convolutional neural network model.\"\"\"    \n",
    "    inputs = keras.Input((width, height, depth, 1))\n",
    "\n",
    "    x = layers.Conv3D(filters=8, kernel_size=3, activation=\"relu\")(inputs)\n",
    "    x = layers.MaxPool3D(pool_size=2)(x)\n",
    "    x = layers.BatchNormalization()(x)\n",
    "\n",
    "    x = layers.Conv3D(filters=16, kernel_size=3, activation=\"relu\")(x)\n",
    "    x = layers.MaxPool3D(pool_size=2)(x)\n",
    "    x = layers.BatchNormalization()(x)\n",
    "\n",
    "    x = layers.Conv3D(filters=32, kernel_size=3, activation=\"relu\")(x)\n",
    "    x = layers.MaxPool3D(pool_size=2)(x)\n",
    "    x = layers.BatchNormalization()(x)\n",
    "\n",
    "    x = layers.GlobalAveragePooling3D()(x)\n",
    "    x = layers.Dense(units=64, activation=\"relu\")(x)\n",
    "    x = layers.Dropout(0.3)(x)\n",
    "\n",
    "    outputs = layers.Dense(units=1, activation=\"sigmoid\")(x)\n",
    "\n",
    "    # Define the model.\n",
    "    model = keras.Model(inputs, outputs, name=\"3dcnnfacial\")\n",
    "    return model\n",
    "\n",
    "\n",
    "# Build model.\n",
    "model = get_model(width=128, height=128, depth=64)\n",
    "model.summary()"
   ]
  },
  {
   "cell_type": "code",
   "execution_count": 34,
   "id": "011658a5",
   "metadata": {
    "tags": []
   },
   "outputs": [],
   "source": [
    "initial_learning_rate = 0.000025\n",
    "lr_schedule = keras.optimizers.schedules.ExponentialDecay(\n",
    "    initial_learning_rate, decay_steps=100000, decay_rate=0.96, staircase=True\n",
    ")\n",
    "model.compile(\n",
    "    loss=\"binary_crossentropy\",\n",
    "    optimizer=keras.optimizers.Adam(learning_rate=lr_schedule),\n",
    "    metrics=[\"acc\"],\n",
    ")\n",
    "\n",
    "# Define callbacks.\n",
    "checkpoint_cb = keras.callbacks.ModelCheckpoint(\n",
    "    \"3d_facialrecognize.h5\", save_best_only=True\n",
    ")\n",
    "early_stopping_cb = keras.callbacks.EarlyStopping(monitor=\"val_acc\", patience=15)"
   ]
  },
  {
   "cell_type": "markdown",
   "id": "d647d300-07e6-4137-a286-d174d137cbce",
   "metadata": {
    "tags": []
   },
   "source": [
    "### Training "
   ]
  },
  {
   "cell_type": "code",
   "execution_count": 35,
   "id": "4eea2692",
   "metadata": {
    "tags": []
   },
   "outputs": [
    {
     "name": "stdout",
     "output_type": "stream",
     "text": [
      "Epoch 1/30\n"
     ]
    },
    {
     "name": "stderr",
     "output_type": "stream",
     "text": [
      "2023-04-16 15:13:51.009376: I tensorflow/stream_executor/cuda/cuda_dnn.cc:384] Loaded cuDNN version 8100\n",
      "2023-04-16 15:13:53.071191: I tensorflow/stream_executor/cuda/cuda_blas.cc:1614] TensorFloat-32 will be used for the matrix multiplication. This will only be logged once.\n"
     ]
    },
    {
     "name": "stdout",
     "output_type": "stream",
     "text": [
      "121/121 [==============================] - 302s 2s/step - loss: 0.5467 - acc: 0.9060 - val_loss: 0.6561 - val_acc: 0.7532\n",
      "Epoch 2/30\n",
      "121/121 [==============================] - 297s 2s/step - loss: 0.4589 - acc: 0.9421 - val_loss: 0.5123 - val_acc: 0.6472\n",
      "Epoch 3/30\n",
      "121/121 [==============================] - 297s 2s/step - loss: 0.4028 - acc: 0.9445 - val_loss: 0.4017 - val_acc: 0.6926\n",
      "Epoch 4/30\n",
      "121/121 [==============================] - 298s 2s/step - loss: 0.3623 - acc: 0.9501 - val_loss: 0.3116 - val_acc: 0.8786\n",
      "Epoch 5/30\n",
      "121/121 [==============================] - 298s 2s/step - loss: 0.3270 - acc: 0.9497 - val_loss: 0.2616 - val_acc: 0.9693\n",
      "Epoch 6/30\n",
      "121/121 [==============================] - 299s 2s/step - loss: 0.3032 - acc: 0.9442 - val_loss: 0.2372 - val_acc: 0.9806\n",
      "Epoch 7/30\n",
      "121/121 [==============================] - 299s 2s/step - loss: 0.2830 - acc: 0.9504 - val_loss: 0.2235 - val_acc: 0.9814\n",
      "Epoch 8/30\n",
      "121/121 [==============================] - 299s 2s/step - loss: 0.2735 - acc: 0.9463 - val_loss: 0.2120 - val_acc: 0.9814\n",
      "Epoch 9/30\n",
      "121/121 [==============================] - 297s 2s/step - loss: 0.2574 - acc: 0.9469 - val_loss: 0.2048 - val_acc: 0.9814\n",
      "Epoch 10/30\n",
      "121/121 [==============================] - 298s 2s/step - loss: 0.2450 - acc: 0.9480 - val_loss: 0.1924 - val_acc: 0.9822\n",
      "Epoch 11/30\n",
      "121/121 [==============================] - 297s 2s/step - loss: 0.2348 - acc: 0.9466 - val_loss: 0.1805 - val_acc: 0.9838\n",
      "Epoch 12/30\n",
      "121/121 [==============================] - 297s 2s/step - loss: 0.2237 - acc: 0.9490 - val_loss: 0.1731 - val_acc: 0.9846\n",
      "Epoch 13/30\n",
      "121/121 [==============================] - 300s 2s/step - loss: 0.2155 - acc: 0.9469 - val_loss: 0.1620 - val_acc: 0.9846\n",
      "Epoch 14/30\n",
      "121/121 [==============================] - 297s 2s/step - loss: 0.2096 - acc: 0.9473 - val_loss: 0.1562 - val_acc: 0.9846\n",
      "Epoch 15/30\n",
      "121/121 [==============================] - 298s 2s/step - loss: 0.2078 - acc: 0.9438 - val_loss: 0.1533 - val_acc: 0.9854\n",
      "Epoch 16/30\n",
      "121/121 [==============================] - 298s 2s/step - loss: 0.1925 - acc: 0.9487 - val_loss: 0.1493 - val_acc: 0.9846\n",
      "Epoch 17/30\n",
      "121/121 [==============================] - 298s 2s/step - loss: 0.1916 - acc: 0.9515 - val_loss: 0.1397 - val_acc: 0.9871\n",
      "Epoch 18/30\n",
      "121/121 [==============================] - 297s 2s/step - loss: 0.1804 - acc: 0.9511 - val_loss: 0.1410 - val_acc: 0.9830\n",
      "Epoch 19/30\n",
      "121/121 [==============================] - 298s 2s/step - loss: 0.1786 - acc: 0.9515 - val_loss: 0.1278 - val_acc: 0.9846\n",
      "Epoch 20/30\n",
      "121/121 [==============================] - 297s 2s/step - loss: 0.1777 - acc: 0.9532 - val_loss: 0.1204 - val_acc: 0.9838\n",
      "Epoch 21/30\n",
      "121/121 [==============================] - 300s 2s/step - loss: 0.1659 - acc: 0.9535 - val_loss: 0.1184 - val_acc: 0.9862\n",
      "Epoch 22/30\n",
      "121/121 [==============================] - 298s 2s/step - loss: 0.1625 - acc: 0.9549 - val_loss: 0.1142 - val_acc: 0.9854\n",
      "Epoch 23/30\n",
      "121/121 [==============================] - 299s 2s/step - loss: 0.1631 - acc: 0.9546 - val_loss: 0.1080 - val_acc: 0.9846\n",
      "Epoch 24/30\n",
      "121/121 [==============================] - 297s 2s/step - loss: 0.1553 - acc: 0.9542 - val_loss: 0.1062 - val_acc: 0.9854\n",
      "Epoch 25/30\n",
      "121/121 [==============================] - 297s 2s/step - loss: 0.1570 - acc: 0.9549 - val_loss: 0.1037 - val_acc: 0.9862\n",
      "Epoch 26/30\n",
      "121/121 [==============================] - 299s 2s/step - loss: 0.1490 - acc: 0.9587 - val_loss: 0.1014 - val_acc: 0.9838\n",
      "Epoch 27/30\n",
      "121/121 [==============================] - 297s 2s/step - loss: 0.1492 - acc: 0.9580 - val_loss: 0.0978 - val_acc: 0.9822\n",
      "Epoch 28/30\n",
      "121/121 [==============================] - 298s 2s/step - loss: 0.1480 - acc: 0.9615 - val_loss: 0.0961 - val_acc: 0.9862\n",
      "Epoch 29/30\n",
      "121/121 [==============================] - 297s 2s/step - loss: 0.1504 - acc: 0.9542 - val_loss: 0.0937 - val_acc: 0.9862\n",
      "Epoch 30/30\n",
      "121/121 [==============================] - 297s 2s/step - loss: 0.1386 - acc: 0.9570 - val_loss: 0.0923 - val_acc: 0.9862\n"
     ]
    },
    {
     "data": {
      "text/plain": [
       "<keras.callbacks.History at 0x149ac85ae380>"
      ]
     },
     "execution_count": 35,
     "metadata": {},
     "output_type": "execute_result"
    }
   ],
   "source": [
    "epochs = 30\n",
    "model.fit(\n",
    "    train_dataset_brainLoss,\n",
    "    validation_data=test_dataset_brainLoss,\n",
    "    epochs=epochs,\n",
    "    shuffle=True,\n",
    "    verbose=1,\n",
    "    callbacks=[checkpoint_cb, early_stopping_cb],\n",
    ")"
   ]
  },
  {
   "cell_type": "code",
   "execution_count": 36,
   "id": "d803ce51",
   "metadata": {
    "tags": []
   },
   "outputs": [
    {
     "data": {
      "image/png": "[encoded data removed]",
      "text/plain": [
       "<Figure size 2000x300 with 2 Axes>"
      ]
     },
     "metadata": {},
     "output_type": "display_data"
    }
   ],
   "source": [
    "fig, ax = plt.subplots(1, 2, figsize=(20, 3))\n",
    "ax = ax.ravel()\n",
    "\n",
    "for i, metric in enumerate([\"acc\", \"loss\"]):\n",
    "    ax[i].plot(model.history.history[metric])\n",
    "    ax[i].plot(model.history.history[\"val_\" + metric])\n",
    "    ax[i].set_title(\"Model {}\".format(metric))\n",
    "    ax[i].set_xlabel(\"epochs\")\n",
    "    ax[i].set_ylabel(metric)\n",
    "    ax[i].legend([\"train\", \"val\"])"
   ]
  },
  {
   "cell_type": "code",
   "execution_count": 19,
   "id": "9363877c",
   "metadata": {
    "tags": []
   },
   "outputs": [],
   "source": [
    "# Load saved model & weights\n",
    "model = keras.models.load_model('3d_facialrecognize.h5')\n",
    "model.load_weights(\"3d_facialrecognize.h5\")"
   ]
  },
  {
   "cell_type": "code",
   "execution_count": 20,
   "id": "58fc84fd",
   "metadata": {
    "collapsed": true,
    "jupyter": {
     "outputs_hidden": true
    },
    "tags": []
   },
   "outputs": [
    {
     "ename": "NameError",
     "evalue": "name 'X_test' is not defined",
     "output_type": "error",
     "traceback": [
      "\u001b[0;31m---------------------------------------------------------------------------\u001b[0m",
      "\u001b[0;31mNameError\u001b[0m                                 Traceback (most recent call last)",
      "Cell \u001b[0;32mIn[20], line 1\u001b[0m\n\u001b[0;32m----> 1\u001b[0m model\u001b[38;5;241m.\u001b[39mpredict(np\u001b[38;5;241m.\u001b[39mexpand_dims(\u001b[43mX_test\u001b[49m[\u001b[38;5;241m10\u001b[39m], axis\u001b[38;5;241m=\u001b[39m\u001b[38;5;241m0\u001b[39m))[\u001b[38;5;241m0\u001b[39m]\n",
      "\u001b[0;31mNameError\u001b[0m: name 'X_test' is not defined"
     ]
    }
   ],
   "source": [
    "model.predict(np.expand_dims(X_test[10], axis=0))[0]"
   ]
  },
  {
   "cell_type": "code",
   "execution_count": 39,
   "id": "610ffa6c",
   "metadata": {
    "tags": []
   },
   "outputs": [
    {
     "data": {
      "text/plain": [
       "0"
      ]
     },
     "execution_count": 39,
     "metadata": {},
     "output_type": "execute_result"
    }
   ],
   "source": [
    "Y_test[10]"
   ]
  },
  {
   "cell_type": "markdown",
   "id": "91305afb-9fe2-408c-96fa-01bdfbaa28ed",
   "metadata": {},
   "source": [
    "### Evaluation"
   ]
  },
  {
   "cell_type": "code",
   "execution_count": 9,
   "id": "0e9c6edb-5f7e-4a5b-95a4-cc1db3af75a8",
   "metadata": {},
   "outputs": [
    {
     "name": "stderr",
     "output_type": "stream",
     "text": [
      "2023-04-18 15:46:03.007544: I tensorflow/stream_executor/cuda/cuda_dnn.cc:384] Loaded cuDNN version 8100\n"
     ]
    },
    {
     "name": "stdout",
     "output_type": "stream",
     "text": [
      " 3/39 [=>............................] - ETA: 2s - loss: 0.1098 - acc: 0.9583 "
     ]
    },
    {
     "name": "stderr",
     "output_type": "stream",
     "text": [
      "2023-04-18 15:46:05.539443: I tensorflow/stream_executor/cuda/cuda_blas.cc:1614] TensorFloat-32 will be used for the matrix multiplication. This will only be logged once.\n"
     ]
    },
    {
     "name": "stdout",
     "output_type": "stream",
     "text": [
      "39/39 [==============================] - 7s 51ms/step - loss: 0.0923 - acc: 0.9862\n"
     ]
    },
    {
     "data": {
      "text/plain": [
       "[0.09232095628976822, 0.9862459301948547]"
      ]
     },
     "execution_count": 9,
     "metadata": {},
     "output_type": "execute_result"
    }
   ],
   "source": [
    "model.evaluate(X_test, Y_test)"
   ]
  },
  {
   "cell_type": "code",
   "execution_count": null,
   "id": "3544f40e-dd52-4ede-996a-bc871d363822",
   "metadata": {
    "tags": []
   },
   "outputs": [],
   "source": []
  },
  {
   "cell_type": "code",
   "execution_count": null,
   "id": "d15292ed-d68e-49ec-bd5c-b82900b62a79",
   "metadata": {},
   "outputs": [],
   "source": []
  }
 ],
 "metadata": {
  "kernelspec": {
   "display_name": "Python 3 (ipykernel)",
   "language": "python",
   "name": "python3"
  },
  "language_info": {
   "codemirror_mode": {
    "name": "ipython",
    "version": 3
   },
   "file_extension": ".py",
   "mimetype": "text/x-python",
   "name": "python",
   "nbconvert_exporter": "python",
   "pygments_lexer": "ipython3",
   "version": "3.10.10"
  }
 },
 "nbformat": 4,
 "nbformat_minor": 5
}
